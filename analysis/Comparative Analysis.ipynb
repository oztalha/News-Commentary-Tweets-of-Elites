{
 "cells": [
  {
   "cell_type": "code",
   "execution_count": 1,
   "metadata": {
    "collapsed": false
   },
   "outputs": [
    {
     "name": "stdout",
     "output_type": "stream",
     "text": [
      "C:\\Users\\Talha\\Documents\\WinPython3\\projects\\News-Commentary-Tweets-of-Elites\n"
     ]
    }
   ],
   "source": [
    "%cd .."
   ]
  },
  {
   "cell_type": "code",
   "execution_count": 4,
   "metadata": {
    "collapsed": false
   },
   "outputs": [],
   "source": [
    "import pandas as pd\n",
    "import numpy as np\n",
    "\n",
    "import plotly.plotly as py\n",
    "import plotly.tools as tls\n",
    "from plotly.graph_objs import *\n",
    "%matplotlib inline\n",
    "import matplotlib.pyplot as plt\n",
    "plt.style.use('ggplot')"
   ]
  },
  {
   "cell_type": "code",
   "execution_count": 11,
   "metadata": {
    "collapsed": false
   },
   "outputs": [
    {
     "data": {
      "text/html": [
       "<div style=\"max-height:1000px;max-width:1500px;overflow:auto;\">\n",
       "<table border=\"1\" class=\"dataframe\">\n",
       "  <thead>\n",
       "    <tr style=\"text-align: right;\">\n",
       "      <th></th>\n",
       "      <th>newsdate</th>\n",
       "      <th>twcount</th>\n",
       "      <th>title</th>\n",
       "    </tr>\n",
       "  </thead>\n",
       "  <tbody>\n",
       "    <tr>\n",
       "      <th>7067</th>\n",
       "      <td>2013-03-13</td>\n",
       "      <td>129</td>\n",
       "      <td>A New World ‘first': Pope Francis</td>\n",
       "    </tr>\n",
       "    <tr>\n",
       "      <th>6823</th>\n",
       "      <td>2013-04-15</td>\n",
       "      <td>128</td>\n",
       "      <td>Explosions rock Boston Marathon, three dead</td>\n",
       "    </tr>\n",
       "    <tr>\n",
       "      <th>5852</th>\n",
       "      <td>2013-08-26</td>\n",
       "      <td>126</td>\n",
       "      <td>Miley Cyrus twerks her way to infamy</td>\n",
       "    </tr>\n",
       "    <tr>\n",
       "      <th>1639</th>\n",
       "      <td>2014-09-04</td>\n",
       "      <td>126</td>\n",
       "      <td>Celebs say adieu to she who burned them best</td>\n",
       "    </tr>\n",
       "    <tr>\n",
       "      <th>5605</th>\n",
       "      <td>2013-09-22</td>\n",
       "      <td>126</td>\n",
       "      <td>Emmys pay tribute to fallen actors</td>\n",
       "    </tr>\n",
       "    <tr>\n",
       "      <th>7397</th>\n",
       "      <td>2013-01-23</td>\n",
       "      <td>124</td>\n",
       "      <td>Hillary Clinton erupts over Benghazi</td>\n",
       "    </tr>\n",
       "    <tr>\n",
       "      <th>2616</th>\n",
       "      <td>2014-06-15</td>\n",
       "      <td>124</td>\n",
       "      <td>Tweeps celebrate Dad, joys of fatherhood</td>\n",
       "    </tr>\n",
       "    <tr>\n",
       "      <th>5726</th>\n",
       "      <td>2013-09-10</td>\n",
       "      <td>123</td>\n",
       "      <td>Obama: ‘exceptional’ US ‘doesn’t do pinpricks’</td>\n",
       "    </tr>\n",
       "    <tr>\n",
       "      <th>6652</th>\n",
       "      <td>2013-05-12</td>\n",
       "      <td>121</td>\n",
       "      <td>Celebs tweet their love for their moms</td>\n",
       "    </tr>\n",
       "    <tr>\n",
       "      <th>6028</th>\n",
       "      <td>2013-08-05</td>\n",
       "      <td>119</td>\n",
       "      <td>Amazon founder buys Washington Post</td>\n",
       "    </tr>\n",
       "    <tr>\n",
       "      <th>6229</th>\n",
       "      <td>2013-07-13</td>\n",
       "      <td>118</td>\n",
       "      <td>Jury finds George Zimmerman not guilty</td>\n",
       "    </tr>\n",
       "    <tr>\n",
       "      <th>891</th>\n",
       "      <td>2014-10-31</td>\n",
       "      <td>118</td>\n",
       "      <td>Ready or not, it’s time to go trick-or-treating</td>\n",
       "    </tr>\n",
       "    <tr>\n",
       "      <th>1928</th>\n",
       "      <td>2014-08-12</td>\n",
       "      <td>116</td>\n",
       "      <td>Williams’ death shocks entertainment industry</td>\n",
       "    </tr>\n",
       "    <tr>\n",
       "      <th>5789</th>\n",
       "      <td>2013-09-03</td>\n",
       "      <td>116</td>\n",
       "      <td>Kerry makes case to Senate for Syria strike</td>\n",
       "    </tr>\n",
       "    <tr>\n",
       "      <th>7154</th>\n",
       "      <td>2013-02-28</td>\n",
       "      <td>114</td>\n",
       "      <td>Woodward ‘threatened’ by White House?</td>\n",
       "    </tr>\n",
       "    <tr>\n",
       "      <th>5862</th>\n",
       "      <td>2013-08-25</td>\n",
       "      <td>113</td>\n",
       "      <td>‘N Sync reunion highlight of VMAs</td>\n",
       "    </tr>\n",
       "    <tr>\n",
       "      <th>7140</th>\n",
       "      <td>2013-03-02</td>\n",
       "      <td>112</td>\n",
       "      <td>Sequestration in effect, Obama presses Congress</td>\n",
       "    </tr>\n",
       "    <tr>\n",
       "      <th>3361</th>\n",
       "      <td>2014-04-20</td>\n",
       "      <td>111</td>\n",
       "      <td>Celebrity tweeps wish happy Easter to tw’orld</td>\n",
       "    </tr>\n",
       "    <tr>\n",
       "      <th>7260</th>\n",
       "      <td>2013-02-13</td>\n",
       "      <td>111</td>\n",
       "      <td>Rubio SOTU response drowned in ‘big gulp’</td>\n",
       "    </tr>\n",
       "    <tr>\n",
       "      <th>889</th>\n",
       "      <td>2014-10-31</td>\n",
       "      <td>111</td>\n",
       "      <td>Celebs get suited up for Halloween festivities</td>\n",
       "    </tr>\n",
       "    <tr>\n",
       "      <th>4810</th>\n",
       "      <td>2013-12-15</td>\n",
       "      <td>110</td>\n",
       "      <td>Season’s Tweetings: A holiday countdown</td>\n",
       "    </tr>\n",
       "  </tbody>\n",
       "</table>\n",
       "</div>"
      ],
      "text/plain": [
       "       newsdate  twcount                                            title\n",
       "7067 2013-03-13      129                A New World ‘first': Pope Francis\n",
       "6823 2013-04-15      128      Explosions rock Boston Marathon, three dead\n",
       "5852 2013-08-26      126             Miley Cyrus twerks her way to infamy\n",
       "1639 2014-09-04      126     Celebs say adieu to she who burned them best\n",
       "5605 2013-09-22      126               Emmys pay tribute to fallen actors\n",
       "7397 2013-01-23      124             Hillary Clinton erupts over Benghazi\n",
       "2616 2014-06-15      124         Tweeps celebrate Dad, joys of fatherhood\n",
       "5726 2013-09-10      123   Obama: ‘exceptional’ US ‘doesn’t do pinpricks’\n",
       "6652 2013-05-12      121           Celebs tweet their love for their moms\n",
       "6028 2013-08-05      119              Amazon founder buys Washington Post\n",
       "6229 2013-07-13      118           Jury finds George Zimmerman not guilty\n",
       "891  2014-10-31      118  Ready or not, it’s time to go trick-or-treating\n",
       "1928 2014-08-12      116    Williams’ death shocks entertainment industry\n",
       "5789 2013-09-03      116      Kerry makes case to Senate for Syria strike\n",
       "7154 2013-02-28      114            Woodward ‘threatened’ by White House?\n",
       "5862 2013-08-25      113                ‘N Sync reunion highlight of VMAs\n",
       "7140 2013-03-02      112  Sequestration in effect, Obama presses Congress\n",
       "3361 2014-04-20      111    Celebrity tweeps wish happy Easter to tw’orld\n",
       "7260 2013-02-13      111        Rubio SOTU response drowned in ‘big gulp’\n",
       "889  2014-10-31      111   Celebs get suited up for Halloween festivities\n",
       "4810 2013-12-15      110          Season’s Tweetings: A holiday countdown"
      ]
     },
     "execution_count": 11,
     "metadata": {},
     "output_type": "execute_result"
    }
   ],
   "source": [
    "us = pd.read_csv('data/US-headlines.csv',usecols=['newsdate','title','twcount'],parse_dates=[0])\n",
    "us = us[~us.title.str.contains('The\\s?Plazz')]\n",
    "us = us.sort('twcount',ascending=False)\n",
    "us.iloc[29:50]"
   ]
  },
  {
   "cell_type": "code",
   "execution_count": null,
   "metadata": {
    "collapsed": true
   },
   "outputs": [],
   "source": [
    "tr = pd.read_csv('data/TR-headlines.csv',usecols=['newsdate','title','twcount'],parse_dates=[0])\n",
    "tr"
   ]
  }
 ],
 "metadata": {
  "kernelspec": {
   "display_name": "Python 3",
   "language": "python",
   "name": "python3"
  },
  "language_info": {
   "codemirror_mode": {
    "name": "ipython",
    "version": 3
   },
   "file_extension": ".py",
   "mimetype": "text/x-python",
   "name": "python",
   "nbconvert_exporter": "python",
   "pygments_lexer": "ipython3",
   "version": "3.4.3"
  }
 },
 "nbformat": 4,
 "nbformat_minor": 0
}
