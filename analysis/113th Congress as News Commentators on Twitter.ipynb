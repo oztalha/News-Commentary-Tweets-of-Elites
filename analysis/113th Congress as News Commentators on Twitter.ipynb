{
 "cells": [
  {
   "cell_type": "markdown",
   "metadata": {},
   "source": [
    "# 113th Congress as News Commentators on Twitter\n",
    "\n",
    "### Note : [Blogged](http://talhaoz.com/?p=634) about this study.\n",
    "\n",
    "In this project I am answering the following questions:\n",
    "\n",
    "* Who are the most active news commentators among senators and congressmen ?\n",
    "* Which news got the most attention by the politicians ?\n",
    "* How many news (of 7376) are commentated by democrats and/or republicans...\n",
    "* How many comments made on these news by each group ?\n",
    "* What are the news with the highest difference of comment counts (of groups)?\n",
    "\n",
    "The news and the curated tweets used in this study are scraped from theplazz.com approximately matching the duration of [113th US Congress](https://en.wikipedia.org/wiki/113th_United_States_Congress), i.e. between Jan 2013 - Jan 2015.\n",
    "\n",
    "See [here](http://talhaoz.com/news/) for other iPython notebooks on this project.\n",
    "\n",
    "Project (datasets and the source code) is available on [GitHub](https://github.com/oztalha/News-Commentary-Tweets-of-Elites)\n"
   ]
  },
  {
   "cell_type": "code",
   "execution_count": 1,
   "metadata": {
    "collapsed": false
   },
   "outputs": [
    {
     "name": "stdout",
     "output_type": "stream",
     "text": [
      "/Users/toz/Documents/workspace/News-Commentary-Tweets-of-Elites\n"
     ]
    }
   ],
   "source": [
    "cd .."
   ]
  },
  {
   "cell_type": "code",
   "execution_count": 2,
   "metadata": {
    "collapsed": false
   },
   "outputs": [],
   "source": [
    "import twitter\n",
    "import pandas as pd\n",
    "import numpy as np\n",
    "import plotly.plotly as py\n",
    "from plotly.graph_objs import *\n",
    "from mykeys import tw\n",
    "import networkx as nx\n",
    "import itertools\n",
    "from collections import Counter\n",
    "%matplotlib inline"
   ]
  },
  {
   "cell_type": "code",
   "execution_count": 3,
   "metadata": {
    "collapsed": false
   },
   "outputs": [],
   "source": [
    "def oauth_login():\n",
    "    \"\"\"Twitter authorization \"\"\"\n",
    "    #tw is a dictionary, the only variable in mykeys.py\n",
    "    auth = twitter.oauth.OAuth(tw['OAUTH_TOKEN'], tw['OAUTH_TOKEN_SECRET'],\n",
    "             tw['CONSUMER_KEY'], tw['CONSUMER_SECRET'])\n",
    "    twitter_api = twitter.Twitter(auth=auth)\n",
    "    return twitter_api\n",
    "\n",
    "\n",
    "def get_members(members):\n",
    "    \"\"\"Scrape only the interesting info from twitter json response \"\"\"\n",
    "    return [(m['id'],m['screen_name'],m['name'],m['location'],m['description'],\n",
    "            m['created_at'], m['friends_count'],m['followers_count'],\n",
    "            m['statuses_count'],m['favourites_count']) for m in members['users']]\n",
    "\n",
    "\n",
    "def tw_to_pol(twitter_api,slug,owner_screen_name,group):\n",
    "    \"\"\"Get members of a twitter list with known political group into a dataframe \"\"\"\n",
    "    resp = twitter_api.lists.members(slug=slug,owner_screen_name=owner_screen_name,cursor=-1,count=5000)\n",
    "    members = get_members(resp)\n",
    "    df = pd.DataFrame(members,columns=header)\n",
    "    df['party'] = group\n",
    "    return df\n",
    "\n",
    "\n",
    "def get_politicians():\n",
    "    \"\"\"Download 113th congress tweeps using public Twitter lists\"\"\"\n",
    "\n",
    "    header = ['id','screen_name','name','location','description','created_at',\n",
    "           'friends','followers','statuses','favorites']\n",
    "\n",
    "    polists = [{'slug':'senaterepublicans', 'owner_screen_name':'Senate_GOPs', 'group':'gop'}, #62\n",
    "               {'slug':'house-republicans', 'owner_screen_name':'HouseGOP', 'group':'gop'}, #260\n",
    "               {'slug':'housegop', 'owner_screen_name':'GOPLeader', 'group':'gop'}, #237\n",
    "               {'slug':'elected-democrats', 'owner_screen_name':'TheDemocrats', 'group':'dem'}, #259\n",
    "               {'slug':'house-democrats', 'owner_screen_name':'DannyMariachi', 'group':'dem'}, #188\n",
    "               {'slug':'senatedemocrats', 'owner_screen_name':'SenateDems', 'group':'dem'} #52\n",
    "              ]\n",
    "    \n",
    "    twitter_api = oauth_login()\n",
    "\n",
    "    df = pd.DataFrame(columns=header)\n",
    "    for polist in polists:\n",
    "        df = df.append(tw_to_pol(twitter_api,polist['slug'],polist['owner_screen_name'],polist['group']))\n",
    "    df = df.drop_duplicates()\n",
    "    df.to_csv('data/US-politicians.csv',encoding='utf-8',index=False)\n",
    "    return df"
   ]
  },
  {
   "cell_type": "code",
   "execution_count": 3,
   "metadata": {
    "collapsed": false
   },
   "outputs": [],
   "source": [
    "# get twitter IDs of congressmen and senators\n",
    "df = pd.read_csv('data/US-politicians.csv',encoding='utf-8')\n",
    "gop = df[df['party']=='gop']\n",
    "dem = df[df['party']=='dem']\n",
    "dem_tweeps = set(dem.screen_name.values)\n",
    "gop_tweeps = set(gop.screen_name.values)\n",
    "# Principal Accounts of Members of the U.S. Senate (a mix of campaign and government accounts)\n",
    "senate = pd.read_csv('data/US-senate.csv',encoding='utf-8')"
   ]
  },
  {
   "cell_type": "code",
   "execution_count": 4,
   "metadata": {
    "collapsed": false
   },
   "outputs": [],
   "source": [
    "# get commentary tweets of US newsmakers and opinion-shapers\n",
    "tweets = pd.read_csv('data/US-tweets.csv',encoding='utf-8',parse_dates=['dt'])\n",
    "tweets.twhandle = tweets.twhandle.str[1:]\n",
    "#tweets.dt = pd.to_datetime(tweets.dt,unit='D')"
   ]
  },
  {
   "cell_type": "code",
   "execution_count": 5,
   "metadata": {
    "collapsed": false
   },
   "outputs": [
    {
     "name": "stdout",
     "output_type": "stream",
     "text": [
      "7376 news commentated between 14-Jan-2013 and 09-Jan-2015 by\n"
     ]
    },
    {
     "data": {
      "text/html": [
       "<div style=\"max-height:1000px;max-width:1500px;overflow:auto;\">\n",
       "<table border=\"1\" class=\"dataframe\">\n",
       "  <thead>\n",
       "    <tr style=\"text-align: right;\">\n",
       "      <th></th>\n",
       "      <th># of tweeps</th>\n",
       "    </tr>\n",
       "  </thead>\n",
       "  <tbody>\n",
       "    <tr>\n",
       "      <th>senator</th>\n",
       "      <td>44</td>\n",
       "    </tr>\n",
       "    <tr>\n",
       "      <th>democrat</th>\n",
       "      <td>36</td>\n",
       "    </tr>\n",
       "    <tr>\n",
       "      <th>republican</th>\n",
       "      <td>30</td>\n",
       "    </tr>\n",
       "    <tr>\n",
       "      <th>total</th>\n",
       "      <td>1442</td>\n",
       "    </tr>\n",
       "  </tbody>\n",
       "</table>\n",
       "</div>"
      ],
      "text/plain": [
       "            # of tweeps\n",
       "senator              44\n",
       "democrat             36\n",
       "republican           30\n",
       "total              1442"
      ]
     },
     "execution_count": 5,
     "metadata": {},
     "output_type": "execute_result"
    }
   ],
   "source": [
    "# print politician counts curated at least once by theplazz.com\n",
    "title = tweets.groupby(by=['title','dt'])['twhandle']\n",
    "print (len(title),'news commentated between',tweets.dt.order().iloc[0].strftime('%d-%b-%Y'),\n",
    "       'and',tweets.dt.order().iloc[-1].strftime('%d-%b-%Y'),'by')\n",
    "tweepset = set(tweets.twhandle.unique())\n",
    "senateset = set(senate.screen_name.values)\n",
    "twcounts = pd.DataFrame(columns=['# of tweeps'])\n",
    "twcounts.loc['senator'] = [len(senateset & tweepset)]\n",
    "twcounts.loc['democrat'] = [len(dem_tweeps & tweepset)]\n",
    "twcounts.loc['republican']= [len(gop_tweeps & tweepset)]\n",
    "twcounts.loc['total'] = [len(tweepset)]\n",
    "twcounts"
   ]
  },
  {
   "cell_type": "code",
   "execution_count": 6,
   "metadata": {
    "collapsed": false
   },
   "outputs": [
    {
     "data": {
      "text/html": [
       "<iframe id=\"igraph\" scrolling=\"no\" style=\"border:none;\"seamless=\"seamless\" src=\"https://plot.ly/~toz/363.embed\" height=\"525\" width=\"100%\"></iframe>"
      ],
      "text/plain": [
       "<plotly.tools.PlotlyDisplay object>"
      ]
     },
     "execution_count": 6,
     "metadata": {},
     "output_type": "execute_result"
    }
   ],
   "source": [
    "# plot commentating activity of these politicians\n",
    "tweeps = tweets.groupby(by='twhandle')['twtext'].count().order(ascending=False)\n",
    "poltweeps = tweeps[tweeps.index.isin(df.screen_name)]\n",
    "colors = ['blue' if x in dem_tweeps else 'red' for x in poltweeps.index]\n",
    "data = Data([Bar(\n",
    "        x=poltweeps.index,\n",
    "        y=poltweeps.values,\n",
    "        marker=Marker(color=colors)\n",
    "        )])\n",
    "layout = Layout(yaxis=YAxis(title='# of news commentated (Jan 2013 - Jan 2015)'),\n",
    "                title=\"News counts commentated by 113th US Congress (curated by theplazz.com)\")\n",
    "fig = Figure(data=data, layout=layout)\n",
    "py.iplot(fig,filename=\"113th US Congress as News Commentators\")"
   ]
  },
  {
   "cell_type": "code",
   "execution_count": 7,
   "metadata": {
    "collapsed": false
   },
   "outputs": [
    {
     "name": "stdout",
     "output_type": "stream",
     "text": [
      "2829 comments made on 1239 news by democrats.\n",
      "2109 comments made on 1183 news by republicans.\n",
      "News commentated by any member of either group: 1916\n",
      "News commentated by democrats only: 733\n",
      "News commentated by republicans only: 677\n",
      "News commentated by both of the parties: 506\n"
     ]
    }
   ],
   "source": [
    "# Stats: how many news are commentated by how many democrats and/or republicans...\n",
    "demnews = title.apply(lambda g: len(dem_tweeps & set(g.values)))\n",
    "gopnews = title.apply(lambda g: len(gop_tweeps & set(g.values)))\n",
    "print (demnews.sum(),'comments made on',demnews[demnews>0].size,'news by democrats.')\n",
    "print (gopnews.sum(),'comments made on',gopnews[gopnews>0].size,'news by republicans.')\n",
    "dgtotl = (demnews + gopnews)\n",
    "print ('News commentated by any member of either group:',(dgtotl[dgtotl>0].size))\n",
    "# Number of comments by dems - number of comments by gops\n",
    "dgdiff = (demnews - gopnews)\n",
    "# Normalize the polarity\n",
    "dgdiv = dgdiff/dgtotl\n",
    "digdiv = dgdiv.order()[:dgtotl[dgtotl>0].size]\n",
    "print ('News commentated by democrats only:',(digdiv[digdiv == 1].size))\n",
    "print ('News commentated by republicans only:',(digdiv[digdiv == -1].size))\n",
    "print ('News commentated by both of the parties:',(digdiv[(digdiv > -1) & (digdiv < 1)].size))"
   ]
  },
  {
   "cell_type": "code",
   "execution_count": 8,
   "metadata": {
    "collapsed": false
   },
   "outputs": [
    {
     "data": {
      "image/png": "[encoded data removed]",
      "text/plain": [
       "<matplotlib.figure.Figure at 0x1064aecf8>"
      ]
     },
     "metadata": {},
     "output_type": "display_data"
    }
   ],
   "source": [
    "# commentator group polarity distribution of news\n",
    "digdiv[(digdiv > -1) & (digdiv < 1)].plot();"
   ]
  },
  {
   "cell_type": "code",
   "execution_count": 9,
   "metadata": {
    "collapsed": false
   },
   "outputs": [
    {
     "data": {
      "text/html": [
       "<iframe id=\"igraph\" scrolling=\"no\" style=\"border:none;\"seamless=\"seamless\" src=\"https://plot.ly/~toz/411.embed\" height=\"525\" width=\"100%\"></iframe>"
      ],
      "text/plain": [
       "<plotly.tools.PlotlyDisplay object>"
      ]
     },
     "execution_count": 9,
     "metadata": {},
     "output_type": "execute_result"
    }
   ],
   "source": [
    "data = Data([Bar(\n",
    "        x=digdiv.index.get_level_values(0),\n",
    "        y=digdiv[(digdiv > -1) & (digdiv < 1)]\n",
    "        )])\n",
    "layout = Layout(yaxis=YAxis(title='# of news commentated (Jan 2013 - Jan 2015)'),\n",
    "                margin=Margin(l=150,r=150,b=150),\n",
    "                title=\"News polarized by 113th US Congress (curated by theplazz.com)\")\n",
    "fig = Figure(data=data, layout=layout)\n",
    "py.iplot(fig,filename=\"Polarity distribution of news\")"
   ]
  },
  {
   "cell_type": "code",
   "execution_count": 10,
   "metadata": {
    "collapsed": false
   },
   "outputs": [
    {
     "data": {
      "text/plain": [
       "title                                               dt        \n",
       "A day to honor veterans’ courage, sacrifrice        2014-05-26    36\n",
       "Apartheid resistance leader Mandela has died        2013-12-05    31\n",
       "World marks 70th anniversary of D-Day               2014-06-06    24\n",
       "US observes somber 9/11 anniversary                 2014-09-11    21\n",
       "Senate passes 5-month UI extension                  2014-04-07    21\n",
       "Dems’ attempt to raise minimum wage fails           2014-04-30    20\n",
       "Shinseki resigns from VA following apology          2014-05-30    20\n",
       "Deportation to focus on ‘felons not families’       2014-11-20    19\n",
       "A reflection on rights on Constitution Day          2014-09-17    19\n",
       "Dems push #EqualPay bill on Equal Pay Day           2014-04-08    19\n",
       "Around the world, Jews welcome 5774                 2013-09-04    18\n",
       "Remembering Rev. Dr. Martin Luther King Jr.         2014-01-20    18\n",
       "4 dead after Fort Hood shooting incident            2014-04-02    18\n",
       "Congress critters @work: #DontDoubleMyRate          2013-07-09    18\n",
       "Politicians get patriotic in July 4th holiday rush  2014-07-04    17\n",
       "Dems host climate-change talk-a-thon                2014-03-10    17\n",
       "Boston honors dead in Marathon bombing              2014-04-15    16\n",
       "Tweeps count blessings both big and small           2014-11-27    15\n",
       "Obama unveils his $4T budget based on ‘values’      2014-03-04    15\n",
       "Earth Day observers consider climate change         2014-04-21    15\n",
       "Senate ‘goes nuclear’ on filibuster option          2013-11-21    15\n",
       "EPA unveils reduction plan for air pollution        2014-06-02    15\n",
       "Politicos, businesses thank teachers, nurses        2014-05-06    15\n",
       "Senate’s unemployment bill defeated by 1 vote       2014-02-06    15\n",
       "Obama to governors: ‘sequester hurts states’        2013-02-25    15\n",
       "VA bills unanimously pass House, Senate             2014-06-11    15\n",
       "Sundown ushers in the Jewish New Year               2014-09-24    14\n",
       "Jews worldwide reflect on Holocaust Day             2014-04-28    14\n",
       "Renowned poet, author Maya Angelou dies             2014-05-28    14\n",
       "6 dead in attack on Jerusalem synagogue             2014-11-18    14\n",
       "Obama delivers climate change speech                2013-06-25    14\n",
       "The Civil Rights Act of 1964 turns 50               2014-07-02    14\n",
       "Season’s tweetings: It’s Christmas Day greetings    2014-12-25    14\n",
       "Put on your yarmulke, it’s time for Hanukkah        2014-12-16    14\n",
       "Americans mark 100 years of Mother’s Day            2014-05-11    14\n",
       "World AIDS Day to raise awareness, funds            2014-12-01    14\n",
       "Day of remembrance for Pearl Harbor veterans        2014-12-07    13\n",
       "Military sexual assault bill rejected by Senate     2014-03-06    13\n",
       "Most diverse Congress yet opens despite snow        2015-01-06    13\n",
       "ACA website surpasses 6M signups                    2014-03-27    13\n",
       "Dems tweet support for ‘Not My Boss’ Business’      2014-07-14    13\n",
       "Hobby Lobby case begins in SCOTUS                   2014-03-25    13\n",
       "Lawmakers pass bipartisan budget deal               2013-12-18    13\n",
       "Paycheck Fairness Act voted down by GOP             2014-04-09    13\n",
       "Nobel Peace Prize goes to child rights activists    2014-10-10    12\n",
       "Senate passes farm bill over to the White House     2014-02-04    12\n",
       "Feinstein, McCain unveil CIA ‘Torture Report’       2014-12-09    12\n",
       "College affordability makes Dem agenda              2014-05-05    12\n",
       "Obama to announce executive order in SOTU           2014-01-28    12\n",
       "‘Not My Boss’ Business Act’ shot down in Senate     2014-07-16    12\n",
       "#ConstitutionDay trends on Twitter                  2013-09-17    12\n",
       "As Passover arrives, nontrad seders on rise         2014-04-13    12\n",
       "SCOTUS ends overall campaign donor limits           2014-04-02    12\n",
       "SCOTUS rules in favor of Hobby Lobby                2014-06-30    12\n",
       "Keystone pipeline bill fails 59-41 in Senate        2014-11-18    12\n",
       "Obama to tackle LGBT job discrimination             2014-06-16    11\n",
       "Obama promises a year of action for 2014            2014-01-28    11\n",
       "Obama pushes to keep student loan rates low         2013-05-31    11\n",
       "ENDA clears first hurdle, Senate votes 64-32        2013-11-07    11\n",
       "#WomensEqualityDay marks suffrage anniv.            2014-08-26    11\n",
       "Name: twhandle, dtype: int64"
      ]
     },
     "execution_count": 10,
     "metadata": {},
     "output_type": "execute_result"
    }
   ],
   "source": [
    "# Which news got the most attention by the politicians ?\n",
    "dgtotl.order(ascending=False).head(60)"
   ]
  },
  {
   "cell_type": "code",
   "execution_count": 11,
   "metadata": {
    "collapsed": false
   },
   "outputs": [
    {
     "data": {
      "text/plain": [
       "title                                             dt        \n",
       "Republicans call Obama executive action illegal   2014-11-20    -9\n",
       "Tweeps wish US’ 40th prez a happy birthday        2014-02-06    -9\n",
       "Sign up trouble? WH extends deadline again        2014-03-25    -8\n",
       "Britain’s Iron Lady dies of stroke at 87          2013-04-08    -8\n",
       "Late filers beware: The taxman cometh             2014-04-15    -8\n",
       "SCOTUS rules for prayer at public meetings        2014-05-05    -7\n",
       "National Day of Prayer offers controversy, unity  2014-05-01    -6\n",
       "GOP calls for ‘permanent delay’ of ObamaCare      2013-07-10    -6\n",
       "WH may not cooperate with Benghazi probe          2014-05-05    -6\n",
       "Repubs squelch short-term budget fix              2013-02-05    -6\n",
       "Shinseki resigns from VA following apology        2014-05-30    -6\n",
       "Boehner pressed for Obamacare alternative         2013-12-03    -5\n",
       "Sudan detains Christian woman after release       2014-06-24    -5\n",
       "214 days later: Mexican court frees Tahmooressi   2014-11-01    -5\n",
       "Obama extends to 2016 ACA employer mandate        2014-02-10    -5\n",
       "Obamacare head steps down from HHS                2014-04-10    -5\n",
       "Vets at WWII Memorial become props in dispute     2013-10-02    -5\n",
       "SCOTUS curbs Obama’s recess appointments          2014-06-26    -5\n",
       "After IG report, calls for Shinseki to resign     2014-05-28    -5\n",
       "A Presidential icon, now gone for a decade        2014-06-05    -5\n",
       "CBO: O’care kills equivalent of 2M jobs           2014-02-04    -5\n",
       "House holds Lerner in contempt of Congress        2014-05-07    -5\n",
       "March for Life continues despite cold weather     2014-01-22    -5\n",
       "House Republicans push Benghazi committee         2014-05-08    -4\n",
       "Obamacare’s employer mandates delayed             2013-07-02    -4\n",
       "GOP to form special Benghazi committee            2014-05-02    -4\n",
       "Thousands gather on Washington Mall               2013-02-17    -4\n",
       "Will beheadings become call to action for Obama?  2014-09-02    -4\n",
       "O’care figures frustrate pro’bama fact checkers   2014-02-24    -4\n",
       "IRS to investigators: Can’t find Lerner’s emails  2014-06-13    -4\n",
       "                                                                ..\n",
       "Gun control in focus 2 years after Sandy Hook     2014-12-14     8\n",
       "Senate advances bill to extend jobless aid        2014-01-07     8\n",
       "SOTU puts spotlight on min. wage, gender gap      2014-01-29     8\n",
       "Obama to governors: ‘sequester hurts states’      2013-02-25     9\n",
       "Paycheck Fairness Act voted down by GOP           2014-04-09     9\n",
       "Secret US-China climate agreement unveiled        2014-11-12     9\n",
       "Senate’s unemployment bill defeated by 1 vote     2014-02-06     9\n",
       "Exec. order ends federal LGBT job discrimination  2014-07-21     9\n",
       "Politicos, businesses thank teachers, nurses      2014-05-06     9\n",
       "Sundown ushers in the Jewish New Year             2014-09-24    10\n",
       "LGBT non-discrimination act clears Senate hurdle  2013-11-04    10\n",
       "Nobel Peace Prize goes to child rights activists  2014-10-10    10\n",
       "World AIDS Day to raise awareness, funds          2014-12-01    10\n",
       "Obama to tackle LGBT job discrimination           2014-06-16    11\n",
       "Military sexual assault bill rejected by Senate   2014-03-06    11\n",
       "ENDA clears first hurdle, Senate votes 64-32      2013-11-07    11\n",
       "#WomensEqualityDay marks suffrage anniv.          2014-08-26    11\n",
       "Renowned poet, author Maya Angelou dies           2014-05-28    12\n",
       "‘Not My Boss’ Business Act’ shot down in Senate   2014-07-16    12\n",
       "College affordability makes Dem agenda            2014-05-05    12\n",
       "SCOTUS rules in favor of Hobby Lobby              2014-06-30    12\n",
       "The Civil Rights Act of 1964 turns 50             2014-07-02    12\n",
       "SCOTUS ends overall campaign donor limits         2014-04-02    12\n",
       "Deportation to focus on ‘felons not families’     2014-11-20    13\n",
       "Earth Day observers consider climate change       2014-04-21    13\n",
       "Dems tweet support for ‘Not My Boss’ Business’    2014-07-14    13\n",
       "Dems host climate-change talk-a-thon              2014-03-10    15\n",
       "Senate passes 5-month UI extension                2014-04-07    17\n",
       "Dems’ attempt to raise minimum wage fails         2014-04-30    18\n",
       "Dems push #EqualPay bill on Equal Pay Day         2014-04-08    19\n",
       "Name: twhandle, dtype: int64"
      ]
     },
     "execution_count": 11,
     "metadata": {},
     "output_type": "execute_result"
    }
   ],
   "source": [
    "# On which news the comment-count differences maximized?\n",
    "dgdiff.order()"
   ]
  },
  {
   "cell_type": "code",
   "execution_count": 19,
   "metadata": {
    "collapsed": false
   },
   "outputs": [],
   "source": [
    "#crate bipartite network for bpnet\n",
    "G2=nx.Graph()\n",
    "# add actors\n",
    "for politician,color in list(zip(poltweeps.index.tolist(),colors)):\n",
    "    G2.add_node(politician, color=color,bipartite=0)\n",
    "# add events\n",
    "for e in dgtotl.index.tolist():\n",
    "    G2.add_node(e,bipartite=1)"
   ]
  },
  {
   "cell_type": "code",
   "execution_count": 20,
   "metadata": {
    "collapsed": true
   },
   "outputs": [],
   "source": [
    "def updateG2(group,G2,politicians):\n",
    "    \"\"\" Create two-mode edges \"\"\"\n",
    "    actors = set(group.tolist()) #this can be extended, no weight on two-mode\n",
    "    for actor in actors:\n",
    "        if actor not in politicians:\n",
    "            continue\n",
    "        G2.add_edge(group.name, actor)"
   ]
  },
  {
   "cell_type": "code",
   "execution_count": 21,
   "metadata": {
    "collapsed": false
   },
   "outputs": [
    {
     "name": "stdout",
     "output_type": "stream",
     "text": [
      "actors: 66 \tevents: 7376 \tedges: 4938\n"
     ]
    }
   ],
   "source": [
    "# add edges\n",
    "title.apply(updateG2,G2,set(poltweeps.index))\n",
    "\n",
    "# print number of nodes and edges\n",
    "actors = events = 0\n",
    "for n in G2.nodes(data=True):\n",
    "    if n[1]['bipartite']==0:\n",
    "        actors += 1\n",
    "    else:\n",
    "        events += 1\n",
    "print ('actors:',actors,'\\tevents:',events,'\\tedges:',G2.number_of_edges())"
   ]
  },
  {
   "cell_type": "code",
   "execution_count": 23,
   "metadata": {
    "collapsed": false
   },
   "outputs": [],
   "source": [
    "\"\"\"The Network File is text file with a binary rectangular matrix.\n",
    "The number of rows for the matrix should be the same as the number of Actors(A),\n",
    "and the number of columns is the number of Actors(P).\"\"\"\n",
    "actors = [n[0] for n in G2.nodes(data=True) if n[1]['bipartite']==0]\n",
    "events = [n[0] for n in G2.nodes(data=True) if n[1]['bipartite']==1]\n",
    "\n",
    "M = np.matrix(np.zeros((len(events),len(actors))))\n",
    "for i,event in enumerate(events):\n",
    "    for j,actor in enumerate(actors):\n",
    "        if G2.has_edge(actor, event):\n",
    "            M[i,j]=1\n",
    "np.savetxt(\"data/congress_2mode.txt\", M, fmt='%d')"
   ]
  },
  {
   "cell_type": "raw",
   "metadata": {},
   "source": [
    "#ERGM analysis:\n",
    "\"\"\"\n",
    "b2nodematch is a homophily based two-star statistic. This term adds one statistic to the model unless diff is set to TRUE, in which case the term adds multiple network statistics to the model, one for each of (a subset of) the unique values of the attrname attribute.\n",
    "\"\"\"\n",
    "R code (ERGM on the bipartite, two-mode network):\n",
    "#two mode\n",
    "commentaries <- read.table('data/congress_2mode.txt',sep=' ')\n",
    "commentaries <- as.data.frame(t(commentaries))\n",
    "parties <- read.table('data/congress_attributes.txt',sep=' ',header=T,stringsAsFactors=FALSE)\n",
    "two_mode <-network(commentaries, vertex.attr=parties,  matrix.type='bipartite',\n",
    "          directed=F, hyper=F, loops=F, multiple=F, bipartite=66)\n",
    "set.vertex.attribute(two_mode, 'party', NA, v=seq_len(network.size(two_mode)-66)+66)\n",
    "summary(two_mode, print.adj=F)\n",
    "two_mode.diff<-ergm(two_mode~edges+b1nodematch(\"party\",diff=T))"
   ]
  },
  {
   "cell_type": "raw",
   "metadata": {},
   "source": [
    "Monte Carlo MLE Results:\n",
    "                     Estimate Std. Error MCMC % p-value    \n",
    "edges               -4.921374   0.016658      2  <1e-04 ***\n",
    "b1nodematch.party.D  0.520067   0.003541      2  <1e-04 ***\n",
    "b1nodematch.party.R  0.261082   0.017989      2  <1e-04 ***\n",
    "---\n",
    "Signif. codes:  0 ‘***’ 0.001 ‘**’ 0.01 ‘*’ 0.05 ‘.’ 0.1 ‘ ’ 1\n",
    "\n",
    "     Null Deviance: 674870  on 486816  degrees of freedom\n",
    " Residual Deviance:  52601  on 486813  degrees of freedom\n",
    " \n",
    "AIC: 52607    BIC: 52640    (Smaller is better.) \n",
    "============================ (another run results)\n",
    "Monte Carlo MLE Results:\n",
    "                     Estimate Std. Error MCMC % p-value    \n",
    "edges               -4.950125   0.023855      1  <1e-04 ***\n",
    "b1nodematch.party.D  0.377780   0.023558      2  <1e-04 ***\n",
    "b1nodematch.party.R  0.628042   0.003964      2  <1e-04 ***\n",
    "---\n",
    "Signif. codes:  0 ‘***’ 0.001 ‘**’ 0.01 ‘*’ 0.05 ‘.’ 0.1 ‘ ’ 1\n",
    "\n",
    "     Null Deviance: 674870  on 486816  degrees of freedom\n",
    " Residual Deviance:  52144  on 486813  degrees of freedom\n",
    " \n",
    "AIC: 52150    BIC: 52183    (Smaller is better.) \n",
    "============================ (another run results)\n",
    "Monte Carlo MLE Results:\n",
    "                     Estimate Std. Error MCMC % p-value    \n",
    "edges               -4.920042   0.019739      1  <1e-04 ***\n",
    "b2nodematch.party.D  0.358749   0.034140      1  <1e-04 ***\n",
    "b2nodematch.party.R  0.601879   0.002838      3  <1e-04 ***\n",
    "---\n",
    "Signif. codes:  0 ‘***’ 0.001 ‘**’ 0.01 ‘*’ 0.05 ‘.’ 0.1 ‘ ’ 1\n",
    "\n",
    "     Null Deviance: 674870  on 486816  degrees of freedom\n",
    " Residual Deviance:  52254  on 486813  degrees of freedom\n",
    " \n",
    "AIC: 52260    BIC: 52293    (Smaller is better.) \n",
    "============================ (another run results)\n",
    "Monte Carlo MLE Results:\n",
    "                     Estimate Std. Error MCMC % p-value    \n",
    "edges               -4.949630   0.028055      1  <1e-04 ***\n",
    "b2nodematch.party.D  0.530463   0.003897      1  <1e-04 ***\n",
    "b2nodematch.party.R  0.273482   0.020214      2  <1e-04 ***\n",
    "---\n",
    "Signif. codes:  0 ‘***’ 0.001 ‘**’ 0.01 ‘*’ 0.05 ‘.’ 0.1 ‘ ’ 1\n",
    "\n",
    "     Null Deviance: 674870  on 486816  degrees of freedom\n",
    " Residual Deviance:  52477  on 486813  degrees of freedom\n",
    " \n",
    "AIC: 52483    BIC: 52516    (Smaller is better.)"
   ]
  },
  {
   "cell_type": "raw",
   "metadata": {},
   "source": [
    "#when party types are not differentiated\n",
    "two_mode_b<-ergm(two_mode~edges+b1nodematch(\"party\"))\n",
    "summary(two_mode_b)\n",
    "\n",
    "==========================\n",
    "Summary of model fit\n",
    "==========================\n",
    "\n",
    "Formula:   two_mode ~ edges + b1nodematch(\"party\")\n",
    "\n",
    "Iterations:  20 out of 20 \n",
    "\n",
    "Monte Carlo MLE Results:\n",
    "                  Estimate Std. Error MCMC % p-value    \n",
    "edges             -4.82148    0.02591      1  <1e-04 ***\n",
    "b1nodematch.party  0.31572    0.02996      1  <1e-04 ***\n",
    "---\n",
    "Signif. codes:  0 ‘***’ 0.001 ‘**’ 0.01 ‘*’ 0.05 ‘.’ 0.1 ‘ ’ 1\n",
    "\n",
    "     Null Deviance: 674870  on 486816  degrees of freedom\n",
    " Residual Deviance:  52736  on 486814  degrees of freedom\n",
    " \n",
    "AIC: 52740    BIC: 52762    (Smaller is better.) \n",
    "============================ (another run results)\n",
    "Monte Carlo MLE Results:\n",
    "                  Estimate Std. Error MCMC % p-value    \n",
    "edges             -4.86517    0.01552      2  <1e-04 ***\n",
    "b2nodematch.party  0.34602    0.01707      2  <1e-04 ***\n",
    "---\n",
    "Signif. codes:  0 ‘***’ 0.001 ‘**’ 0.01 ‘*’ 0.05 ‘.’ 0.1 ‘ ’ 1\n",
    "\n",
    "     Null Deviance: 674870  on 486816  degrees of freedom\n",
    " Residual Deviance:  52590  on 486814  degrees of freedom\n",
    " \n",
    "AIC: 52594    BIC: 52616    (Smaller is better.) \n",
    "============================ (another run results)\n",
    "Monte Carlo MLE Results:\n",
    "                  Estimate Std. Error MCMC % p-value    \n",
    "edges             -4.77669    0.02745      0  <1e-04 ***\n",
    "b2nodematch.party  0.23968    0.02059      1  <1e-04 ***\n",
    "---\n",
    "Signif. codes:  0 ‘***’ 0.001 ‘**’ 0.01 ‘*’ 0.05 ‘.’ 0.1 ‘ ’ 1\n",
    "\n",
    "     Null Deviance: 674870  on 486816  degrees of freedom\n",
    " Residual Deviance:  53149  on 486814  degrees of freedom\n",
    " \n",
    "AIC: 53153    BIC: 53175    (Smaller is better.) \n",
    "============================ (another run results)\n",
    "Monte Carlo MLE Results:\n",
    "                   Estimate Std. Error MCMC % p-value    \n",
    "edges             -4.826963   0.018368      1  <1e-04 ***\n",
    "b1nodematch.party  0.247133   0.007967      4  <1e-04 ***\n",
    "---\n",
    "Signif. codes:  0 ‘***’ 0.001 ‘**’ 0.01 ‘*’ 0.05 ‘.’ 0.1 ‘ ’ 1\n",
    "\n",
    "     Null Deviance: 674870  on 486816  degrees of freedom\n",
    " Residual Deviance:  53158  on 486814  degrees of freedom\n",
    " \n",
    "AIC: 53162    BIC: 53184    (Smaller is better.) "
   ]
  },
  {
   "cell_type": "code",
   "execution_count": 12,
   "metadata": {
    "collapsed": false
   },
   "outputs": [],
   "source": [
    "# let's create the actor network \n",
    "# vertices <- commentators\n",
    "# edges (weighted) <- number of news commentated by vertices incident to the edge\n",
    "\n",
    "G=nx.Graph()\n",
    "# add vertices\n",
    "for politician,color in list(zip(poltweeps.index.tolist(),colors)):\n",
    "    G.add_node(politician, color=color)\n",
    "# print(G.nodes(data=True))"
   ]
  },
  {
   "cell_type": "code",
   "execution_count": 13,
   "metadata": {
    "collapsed": false
   },
   "outputs": [],
   "source": [
    "def updateG(group,G,politicians):\n",
    "    \"\"\" Create weighted edges \"\"\"\n",
    "    edges = itertools.combinations(group.tolist(), 2)\n",
    "    for v1,v2 in edges:\n",
    "        if v1 not in politicians or v2 not in politicians:\n",
    "            continue\n",
    "        if G.has_edge(v1, v2):\n",
    "            G[v1][v2]['weight'] += 1\n",
    "        else:\n",
    "            G.add_edge(v1, v2, weight=1)"
   ]
  },
  {
   "cell_type": "code",
   "execution_count": 16,
   "metadata": {
    "collapsed": false
   },
   "outputs": [
    {
     "name": "stdout",
     "output_type": "stream",
     "text": [
      "66 1863\n"
     ]
    }
   ],
   "source": [
    "# add edges\n",
    "title.apply(updateG,G,set(poltweeps.index))\n",
    "# print number of nodes and edges\n",
    "print (G.number_of_nodes(),G.number_of_edges())"
   ]
  },
  {
   "cell_type": "code",
   "execution_count": 17,
   "metadata": {
    "collapsed": false
   },
   "outputs": [],
   "source": [
    "# Exporting to be read by Gephi for better visualization\n",
    "# nx.write_gml(G,\"data/theplazz_politics.gml\")\n",
    "\n",
    "# export for R-ergm\n",
    "A = nx.to_numpy_matrix(G, weight='weight')\n",
    "np.savetxt(\"data/congress_actors_weighted.txt\", A, fmt='%d')"
   ]
  },
  {
   "cell_type": "code",
   "execution_count": 15,
   "metadata": {
    "collapsed": false
   },
   "outputs": [],
   "source": [
    "# network file for pnet\n",
    "A = nx.to_numpy_matrix(G, weight=None)\n",
    "np.savetxt(\"data/congress_actor.txt\", A, fmt='%d')"
   ]
  },
  {
   "cell_type": "code",
   "execution_count": 22,
   "metadata": {
    "collapsed": false
   },
   "outputs": [],
   "source": [
    "#attribute file for pnet\n",
    "party = [str(2) if n[1]['color']=='red' else str(1) for n in G.nodes(data=True)]\n",
    "party.insert(0,'party')\n",
    "with open('data/congress_attribute.txt','w') as w:\n",
    "    w.write('\\n'.join(party))"
   ]
  },
  {
   "cell_type": "code",
   "execution_count": 28,
   "metadata": {
    "collapsed": true
   },
   "outputs": [],
   "source": [
    "#attribute file for R-ergm\n",
    "party = ['R' if n[1]['color']=='red' else 'D' for n in G.nodes(data=True)]\n",
    "party.insert(0,'party')\n",
    "with open('data/congress_attributes.txt','w') as w:\n",
    "    w.write('\\n'.join(party))"
   ]
  },
  {
   "cell_type": "code",
   "execution_count": 23,
   "metadata": {
    "collapsed": false
   },
   "outputs": [
    {
     "data": {
      "text/html": [
       "<img src=\"http://talhaoz.com/wp-content/uploads/2015/03/Modularity_Labeled.png\"/>"
      ],
      "text/plain": [
       "<IPython.core.display.Image object>"
      ]
     },
     "execution_count": 23,
     "metadata": {},
     "output_type": "execute_result"
    }
   ],
   "source": [
    "# 62 of the 65 monitored Congress members are found to be in the same group as their co-party members\n",
    "# 3 congresspeople not in the same group as their co-party members are circled\n",
    "from IPython.display import Image\n",
    "Image(url='http://talhaoz.com/wp-content/uploads/2015/03/Modularity_Labeled.png')"
   ]
  }
 ],
 "metadata": {
  "kernelspec": {
   "display_name": "Python 3",
   "language": "python",
   "name": "python3"
  },
  "language_info": {
   "codemirror_mode": {
    "name": "ipython",
    "version": 3
   },
   "file_extension": ".py",
   "mimetype": "text/x-python",
   "name": "python",
   "nbconvert_exporter": "python",
   "pygments_lexer": "ipython3",
   "version": "3.4.2"
  }
 },
 "nbformat": 4,
 "nbformat_minor": 0
}
