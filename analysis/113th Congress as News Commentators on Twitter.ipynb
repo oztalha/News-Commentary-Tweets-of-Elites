{
 "metadata": {
  "name": "",
  "signature": "sha256:31b7f5292e034cdbd98e208b4a5ea2ef1095190997fbca10d96789ebfcca36d1"
 },
 "nbformat": 3,
 "nbformat_minor": 0,
 "worksheets": [
  {
   "cells": [
    {
     "cell_type": "markdown",
     "metadata": {},
     "source": [
      "# 113th Congress as News Commentators on Twitter\n",
      "\n",
      "In this project I am answering the following questions:\n",
      "\n",
      "* Who are the most active news commentators among senators and congressmen ?\n",
      "* Which news got the most attention by the politicians ?\n",
      "* How many news (of 7376) are commentated by democrats and/or republicans...\n",
      "* How many comments made on these news by each group ?\n",
      "* What are the news with the highest difference of comment counts (of groups)?\n",
      "\n",
      "The news and the curated tweets used in this study are scraped from theplazz.com approximately matching the duration of [113th US Congress](https://en.wikipedia.org/wiki/113th_United_States_Congress), i.e. between Jan 2013 - Jan 2015.\n",
      "\n",
      "See [here](http://talhaoz.com/news/) for other iPython notebooks on this project.\n",
      "\n",
      "Project (datasets and the source code) is available on [GitHub](https://github.com/oztalha/News-Commentary-Tweets-of-Elites)\n"
     ]
    },
    {
     "cell_type": "code",
     "collapsed": false,
     "input": [
      "# %cd 'C:\\Users\\Talha\\Documents\\WinPython\\projelerim\\news\\News-Commentary-Tweets-of-Elites\\'\n",
      "# %pwd"
     ],
     "language": "python",
     "metadata": {},
     "outputs": [],
     "prompt_number": 12
    },
    {
     "cell_type": "code",
     "collapsed": false,
     "input": [
      "import twitter\n",
      "import pandas as pd\n",
      "import plotly.plotly as py\n",
      "from plotly.graph_objs import *\n",
      "from mykeys import tw\n",
      "import networkx as nx\n",
      "import itertools"
     ],
     "language": "python",
     "metadata": {},
     "outputs": [],
     "prompt_number": 259
    },
    {
     "cell_type": "code",
     "collapsed": false,
     "input": [
      "def oauth_login():\n",
      "    \"\"\"Twitter authorization \"\"\"\n",
      "    #tw is a dictionary, the only variable in mykeys.py\n",
      "    auth = twitter.oauth.OAuth(tw['OAUTH_TOKEN'], tw['OAUTH_TOKEN_SECRET'],\n",
      "             tw['CONSUMER_KEY'], tw['CONSUMER_SECRET'])\n",
      "    twitter_api = twitter.Twitter(auth=auth)\n",
      "    return twitter_api\n",
      "\n",
      "\n",
      "def get_members(members):\n",
      "    \"\"\"Scrape only the interesting info from twitter json response \"\"\"\n",
      "    return [(m['id'],m['screen_name'],m['name'],m['location'],m['description'],\n",
      "            m['created_at'], m['friends_count'],m['followers_count'],\n",
      "            m['statuses_count'],m['favourites_count']) for m in members['users']]\n",
      "\n",
      "\n",
      "def tw_to_pol(twitter_api,slug,owner_screen_name,group):\n",
      "    \"\"\"Get members of a twitter list with known political group into a dataframe \"\"\"\n",
      "    resp = twitter_api.lists.members(slug=slug,owner_screen_name=owner_screen_name,cursor=-1,count=5000)\n",
      "    members = get_members(resp)\n",
      "    df = pd.DataFrame(members,columns=header)\n",
      "    df['party'] = group\n",
      "    return df\n",
      "\n",
      "\n",
      "def get_politicians():\n",
      "    \"\"\"Download 113th congress tweeps using public Twitter lists\"\"\"\n",
      "\n",
      "    header = ['id','screen_name','name','location','description','created_at',\n",
      "           'friends','followers','statuses','favorites']\n",
      "\n",
      "    polists = [{'slug':'senaterepublicans', 'owner_screen_name':'Senate_GOPs', 'group':'gop'}, #62\n",
      "               {'slug':'house-republicans', 'owner_screen_name':'HouseGOP', 'group':'gop'}, #260\n",
      "               {'slug':'housegop', 'owner_screen_name':'GOPLeader', 'group':'gop'}, #237\n",
      "               {'slug':'elected-democrats', 'owner_screen_name':'TheDemocrats', 'group':'dem'}, #259\n",
      "               {'slug':'house-democrats', 'owner_screen_name':'DannyMariachi', 'group':'dem'}, #188\n",
      "               {'slug':'senatedemocrats', 'owner_screen_name':'SenateDems', 'group':'dem'} #52\n",
      "              ]\n",
      "    \n",
      "    twitter_api = oauth_login()\n",
      "\n",
      "    df = pd.DataFrame(columns=header)\n",
      "    for polist in polists:\n",
      "        df = df.append(tw_to_pol(twitter_api,polist['slug'],polist['owner_screen_name'],polist['group']))\n",
      "    df = df.drop_duplicates()\n",
      "    df.to_csv('data/US-politicians.csv',encoding='utf-8',index=False)\n",
      "    return df"
     ],
     "language": "python",
     "metadata": {},
     "outputs": [],
     "prompt_number": 3
    },
    {
     "cell_type": "code",
     "collapsed": false,
     "input": [
      "# get twitter IDs of congressmen and senators\n",
      "df = pd.read_csv('data/US-politicians.csv',encoding='utf-8')\n",
      "gop = df[df['party']=='gop']\n",
      "dem = df[df['party']=='dem']\n",
      "dem_tweeps = set(dem.screen_name.values)\n",
      "gop_tweeps = set(gop.screen_name.values)\n",
      "# Principal Accounts of Members of the U.S. Senate (a mix of campaign and government accounts)\n",
      "senate = pd.read_csv('data/US-senate.csv',encoding='utf-8')"
     ],
     "language": "python",
     "metadata": {},
     "outputs": [],
     "prompt_number": 14
    },
    {
     "cell_type": "code",
     "collapsed": false,
     "input": [
      "# get commentary tweets of US newsmakers and opinion-shapers\n",
      "tweets = pd.read_csv('data/US-tweets.csv',encoding='utf-8',parse_dates=['dt'])\n",
      "tweets.twhandle = tweets.twhandle.str[1:]\n",
      "#tweets.dt = pd.to_datetime(tweets.dt,unit='D')"
     ],
     "language": "python",
     "metadata": {},
     "outputs": [],
     "prompt_number": 195
    },
    {
     "cell_type": "code",
     "collapsed": false,
     "input": [
      "# print politician counts curated at least once by theplazz.com\n",
      "title = tweets.groupby(by=['title','dt'])['twhandle']\n",
      "print (len(title),'news commentated between',tweets.dt.order().iloc[0].strftime('%d-%b-%Y'),\n",
      "       'and',tweets.dt.order().iloc[-1].strftime('%d-%b-%Y'),'by')\n",
      "tweepset = set(tweets.twhandle.unique())\n",
      "senateset = set(senate.screen_name.values)\n",
      "twcounts = pd.DataFrame(columns=['# of tweeps'])\n",
      "twcounts.loc['senator'] = [len(senateset & tweepset)]\n",
      "twcounts.loc['democrat'] = [len(dem_tweeps & tweepset)]\n",
      "twcounts.loc['republican']= [len(gop_tweeps & tweepset)]\n",
      "twcounts.loc['total'] = [len(tweepset)]\n",
      "twcounts"
     ],
     "language": "python",
     "metadata": {},
     "outputs": [
      {
       "output_type": "stream",
       "stream": "stdout",
       "text": [
        "7376 news commentated between 14-Jan-2013 and 09-Jan-2015 by\n"
       ]
      },
      {
       "html": [
        "<div style=\"max-height:1000px;max-width:1500px;overflow:auto;\">\n",
        "<table border=\"1\" class=\"dataframe\">\n",
        "  <thead>\n",
        "    <tr style=\"text-align: right;\">\n",
        "      <th></th>\n",
        "      <th># of tweeps</th>\n",
        "    </tr>\n",
        "  </thead>\n",
        "  <tbody>\n",
        "    <tr>\n",
        "      <th>senator</th>\n",
        "      <td>   44</td>\n",
        "    </tr>\n",
        "    <tr>\n",
        "      <th>democrat</th>\n",
        "      <td>   36</td>\n",
        "    </tr>\n",
        "    <tr>\n",
        "      <th>republican</th>\n",
        "      <td>   30</td>\n",
        "    </tr>\n",
        "    <tr>\n",
        "      <th>total</th>\n",
        "      <td> 1442</td>\n",
        "    </tr>\n",
        "  </tbody>\n",
        "</table>\n",
        "</div>"
       ],
       "metadata": {},
       "output_type": "pyout",
       "prompt_number": 196,
       "text": [
        "            # of tweeps\n",
        "senator              44\n",
        "democrat             36\n",
        "republican           30\n",
        "total              1442"
       ]
      }
     ],
     "prompt_number": 196
    },
    {
     "cell_type": "code",
     "collapsed": false,
     "input": [
      "# plot commentating activity of these politicians\n",
      "tweeps = tweets.groupby(by='twhandle')['twtext'].count().order(ascending=False)\n",
      "poltweeps = tweeps[tweeps.index.isin(df.screen_name)]\n",
      "colors = ['blue' if x in dem_tweeps else 'red' for x in poltweeps.index]\n",
      "data = Data([Bar(\n",
      "        x=poltweeps.index,\n",
      "        y=poltweeps.values,\n",
      "        marker=Marker(color=colors)\n",
      "        )])\n",
      "layout = Layout(yaxis=YAxis(title='# of news commentated (Jan 2013 - Jan 2015)'),\n",
      "                title=\"News counts commentated by 113th US Congress (curated by theplazz.com)\")\n",
      "fig = Figure(data=data, layout=layout)\n",
      "py.iplot(fig,filename=\"113th US Congress as News Commentators\")"
     ],
     "language": "python",
     "metadata": {},
     "outputs": [
      {
       "html": [
        "<iframe id=\"igraph\" scrolling=\"no\" style=\"border:none;\"seamless=\"seamless\" src=\"https://plot.ly/~toz/363.embed\" height=\"525\" width=\"100%\"></iframe>"
       ],
       "metadata": {},
       "output_type": "pyout",
       "prompt_number": 17,
       "text": [
        "<plotly.tools.PlotlyDisplay at 0x74a8fd0>"
       ]
      }
     ],
     "prompt_number": 17
    },
    {
     "cell_type": "code",
     "collapsed": false,
     "input": [
      "# Stats: how many news are commentated by how many democrats and/or republicans...\n",
      "demnews = title.apply(lambda g: len(dem_tweeps & set(g.values)))\n",
      "gopnews = title.apply(lambda g: len(gop_tweeps & set(g.values)))\n",
      "print (demnews.sum(),'comments made on',demnews[demnews>0].size,'news by democrats.')\n",
      "print (gopnews.sum(),'comments made on',gopnews[gopnews>0].size,'news by republicans.')\n",
      "dgtotl = (demnews + gopnews)\n",
      "print ('News commentated by any member of either group:',(dgtotl[dgtotl>0].size))\n",
      "# Number of comments by dems - number of comments by gops\n",
      "dgdiff = (demnews - gopnews)\n",
      "# Normalize the polarity\n",
      "dgdiv = dgdiff/dgtotl\n",
      "digdiv = dgdiv.order()[:dgtotl[dgtotl>0].size]\n",
      "print ('News commentated by democrats only:',(digdiv[digdiv == 1].size))\n",
      "print ('News commentated by republicans only:',(digdiv[digdiv == -1].size))\n",
      "print ('News commentated by both of the parties:',(digdiv[(digdiv > -1) & (digdiv < 1)].size))"
     ],
     "language": "python",
     "metadata": {},
     "outputs": [
      {
       "output_type": "stream",
       "stream": "stdout",
       "text": [
        "2829 comments made on 1239 news by democrats.\n",
        "2109 comments made on 1183 news by republicans.\n",
        "News commentated by any member of either group: 1916\n",
        "News commentated by democrats only: 733\n",
        "News commentated by republicans only: 677\n",
        "News commentated by both of the parties: 506\n"
       ]
      }
     ],
     "prompt_number": 189
    },
    {
     "cell_type": "code",
     "collapsed": false,
     "input": [
      "# commentator group polarity distribution of news\n",
      "digdiv[(digdiv > -1) & (digdiv < 1)].plot()"
     ],
     "language": "python",
     "metadata": {},
     "outputs": [
      {
       "metadata": {},
       "output_type": "pyout",
       "prompt_number": 190,
       "text": [
        "<matplotlib.axes._subplots.AxesSubplot at 0x924c518>"
       ]
      },
      {
       "metadata": {},
       "output_type": "display_data",
       "png": "[encoded data removed]",
       "text": [
        "<matplotlib.figure.Figure at 0x924c4e0>"
       ]
      }
     ],
     "prompt_number": 190
    },
    {
     "cell_type": "code",
     "collapsed": false,
     "input": [
      "data = Data([Bar(\n",
      "        x=digdiv.index.get_level_values(0),\n",
      "        y=digdiv[(digdiv > -1) & (digdiv < 1)]\n",
      "        )])\n",
      "layout = Layout(yaxis=YAxis(title='# of news commentated (Jan 2013 - Jan 2015)'),\n",
      "                margin=Margin(l=150,r=150,b=150),\n",
      "                title=\"News polarized by 113th US Congress (curated by theplazz.com)\")\n",
      "fig = Figure(data=data, layout=layout)\n",
      "py.iplot(fig,filename=\"Polarity distribution of news\")"
     ],
     "language": "python",
     "metadata": {},
     "outputs": [
      {
       "html": [
        "<iframe id=\"igraph\" scrolling=\"no\" style=\"border:none;\"seamless=\"seamless\" src=\"https://plot.ly/~toz/411.embed\" height=\"525\" width=\"100%\"></iframe>"
       ],
       "metadata": {},
       "output_type": "pyout",
       "prompt_number": 238,
       "text": [
        "<plotly.tools.PlotlyDisplay at 0x18664518>"
       ]
      }
     ],
     "prompt_number": 238
    },
    {
     "cell_type": "code",
     "collapsed": false,
     "input": [
      "# Which news got the most attention by the politicians ?\n",
      "dgtotl.order(ascending=False).head(60)"
     ],
     "language": "python",
     "metadata": {},
     "outputs": [
      {
       "metadata": {},
       "output_type": "pyout",
       "prompt_number": 199,
       "text": [
        "title                                               dt        \n",
        "A day to honor veterans\u2019 courage, sacrifrice        2014-05-26    36\n",
        "Apartheid resistance leader Mandela has died        2013-12-05    31\n",
        "World marks 70th anniversary of D-Day               2014-06-06    24\n",
        "US observes somber 9/11 anniversary                 2014-09-11    21\n",
        "Senate passes 5-month UI extension                  2014-04-07    21\n",
        "Dems\u2019 attempt to raise minimum wage fails           2014-04-30    20\n",
        "Shinseki resigns from VA following apology          2014-05-30    20\n",
        "Deportation to focus on \u2018felons not families\u2019       2014-11-20    19\n",
        "A reflection on rights on Constitution Day          2014-09-17    19\n",
        "Dems push #EqualPay bill on Equal Pay Day           2014-04-08    19\n",
        "Around the world, Jews welcome 5774                 2013-09-04    18\n",
        "Remembering Rev. Dr. Martin Luther King Jr.         2014-01-20    18\n",
        "4 dead after Fort Hood shooting incident            2014-04-02    18\n",
        "Congress critters @work: #DontDoubleMyRate          2013-07-09    18\n",
        "Politicians get patriotic in July 4th holiday rush  2014-07-04    17\n",
        "Dems host climate-change talk-a-thon                2014-03-10    17\n",
        "Boston honors dead in Marathon bombing              2014-04-15    16\n",
        "Tweeps count blessings both big and small           2014-11-27    15\n",
        "Obama unveils his $4T budget based on \u2018values\u2019      2014-03-04    15\n",
        "Earth Day observers consider climate change         2014-04-21    15\n",
        "Senate \u2018goes nuclear\u2019 on filibuster option          2013-11-21    15\n",
        "EPA unveils reduction plan for air pollution        2014-06-02    15\n",
        "Politicos, businesses thank teachers, nurses        2014-05-06    15\n",
        "Senate\u2019s unemployment bill defeated by 1 vote       2014-02-06    15\n",
        "Obama to governors: \u2018sequester hurts states\u2019        2013-02-25    15\n",
        "VA bills unanimously pass House, Senate             2014-06-11    15\n",
        "Sundown ushers in the Jewish New Year               2014-09-24    14\n",
        "Jews worldwide reflect on Holocaust Day             2014-04-28    14\n",
        "Renowned poet, author Maya Angelou dies             2014-05-28    14\n",
        "6 dead in attack on Jerusalem synagogue             2014-11-18    14\n",
        "Obama delivers climate change speech                2013-06-25    14\n",
        "The Civil Rights Act of 1964 turns 50               2014-07-02    14\n",
        "Season\u2019s tweetings: It\u2019s Christmas Day greetings    2014-12-25    14\n",
        "Put on your yarmulke, it\u2019s time for Hanukkah        2014-12-16    14\n",
        "Americans mark 100 years of Mother\u2019s Day            2014-05-11    14\n",
        "World AIDS Day to raise awareness, funds            2014-12-01    14\n",
        "Day of remembrance for Pearl Harbor veterans        2014-12-07    13\n",
        "Military sexual assault bill rejected by Senate     2014-03-06    13\n",
        "Most diverse Congress yet opens despite snow        2015-01-06    13\n",
        "ACA website surpasses 6M signups                    2014-03-27    13\n",
        "Dems tweet support for \u2018Not My Boss\u2019 Business\u2019      2014-07-14    13\n",
        "Hobby Lobby case begins in SCOTUS                   2014-03-25    13\n",
        "Lawmakers pass bipartisan budget deal               2013-12-18    13\n",
        "Paycheck Fairness Act voted down by GOP             2014-04-09    13\n",
        "Nobel Peace Prize goes to child rights activists    2014-10-10    12\n",
        "Senate passes farm bill over to the White House     2014-02-04    12\n",
        "Feinstein, McCain unveil CIA \u2018Torture Report\u2019       2014-12-09    12\n",
        "College affordability makes Dem agenda              2014-05-05    12\n",
        "Obama to announce executive order in SOTU           2014-01-28    12\n",
        "\u2018Not My Boss\u2019 Business Act\u2019 shot down in Senate     2014-07-16    12\n",
        "#ConstitutionDay trends on Twitter                  2013-09-17    12\n",
        "As Passover arrives, nontrad seders on rise         2014-04-13    12\n",
        "SCOTUS ends overall campaign donor limits           2014-04-02    12\n",
        "SCOTUS rules in favor of Hobby Lobby                2014-06-30    12\n",
        "Keystone pipeline bill fails 59-41 in Senate        2014-11-18    12\n",
        "Obama to tackle LGBT job discrimination             2014-06-16    11\n",
        "Obama promises a year of action for 2014            2014-01-28    11\n",
        "Obama pushes to keep student loan rates low         2013-05-31    11\n",
        "ENDA clears first hurdle, Senate votes 64-32        2013-11-07    11\n",
        "#WomensEqualityDay marks suffrage anniv.            2014-08-26    11\n",
        "Name: twhandle, Length: 60, dtype: int64"
       ]
      }
     ],
     "prompt_number": 199
    },
    {
     "cell_type": "markdown",
     "metadata": {},
     "source": [
      "# Title goes here\n"
     ]
    },
    {
     "cell_type": "code",
     "collapsed": false,
     "input": [
      "# On which news the comment-count differences maximized?\n",
      "dgdiff.order()"
     ],
     "language": "python",
     "metadata": {},
     "outputs": [
      {
       "metadata": {},
       "output_type": "pyout",
       "prompt_number": 300,
       "text": [
        "title                                             dt        \n",
        "Republicans call Obama executive action illegal   2014-11-20   -9\n",
        "Tweeps wish US\u2019 40th prez a happy birthday        2014-02-06   -9\n",
        "Sign up trouble? WH extends deadline again        2014-03-25   -8\n",
        "Britain\u2019s Iron Lady dies of stroke at 87          2013-04-08   -8\n",
        "Late filers beware: The taxman cometh             2014-04-15   -8\n",
        "SCOTUS rules for prayer at public meetings        2014-05-05   -7\n",
        "National Day of Prayer offers controversy, unity  2014-05-01   -6\n",
        "GOP calls for \u2018permanent delay\u2019 of ObamaCare      2013-07-10   -6\n",
        "WH may not cooperate with Benghazi probe          2014-05-05   -6\n",
        "Repubs squelch short-term budget fix              2013-02-05   -6\n",
        "Shinseki resigns from VA following apology        2014-05-30   -6\n",
        "Boehner pressed for Obamacare alternative         2013-12-03   -5\n",
        "Sudan detains Christian woman after release       2014-06-24   -5\n",
        "214 days later: Mexican court frees Tahmooressi   2014-11-01   -5\n",
        "Obama extends to 2016 ACA employer mandate        2014-02-10   -5\n",
        "...\n",
        "ENDA clears first hurdle, Senate votes 64-32     2013-11-07    11\n",
        "#WomensEqualityDay marks suffrage anniv.         2014-08-26    11\n",
        "Renowned poet, author Maya Angelou dies          2014-05-28    12\n",
        "\u2018Not My Boss\u2019 Business Act\u2019 shot down in Senate  2014-07-16    12\n",
        "College affordability makes Dem agenda           2014-05-05    12\n",
        "SCOTUS rules in favor of Hobby Lobby             2014-06-30    12\n",
        "The Civil Rights Act of 1964 turns 50            2014-07-02    12\n",
        "SCOTUS ends overall campaign donor limits        2014-04-02    12\n",
        "Deportation to focus on \u2018felons not families\u2019    2014-11-20    13\n",
        "Earth Day observers consider climate change      2014-04-21    13\n",
        "Dems tweet support for \u2018Not My Boss\u2019 Business\u2019   2014-07-14    13\n",
        "Dems host climate-change talk-a-thon             2014-03-10    15\n",
        "Senate passes 5-month UI extension               2014-04-07    17\n",
        "Dems\u2019 attempt to raise minimum wage fails        2014-04-30    18\n",
        "Dems push #EqualPay bill on Equal Pay Day        2014-04-08    19\n",
        "Name: twhandle, Length: 7376, dtype: int64"
       ]
      }
     ],
     "prompt_number": 300
    },
    {
     "cell_type": "code",
     "collapsed": false,
     "input": [
      "#let's create the plazz network \n",
      "# vertices <- commentators\n",
      "# edges (weighted) <- number of news commentated by vertices incident to the edge\n",
      "\n",
      "G=nx.Graph()\n",
      "for politician,color in list(zip(poltweeps.index.tolist(),colors)):\n",
      "    G.add_node(politician, color=color)\n",
      "print(G.nodes(data=True))"
     ],
     "language": "python",
     "metadata": {},
     "outputs": [
      {
       "output_type": "stream",
       "stream": "stdout",
       "text": [
        "[('SenJeffMerkley', {'color': 'blue'}), ('timkaine', {'color': 'blue'}), ('SenatorKirk', {'color': 'red'}), ('SenatorDurbin', {'color': 'blue'}), ('chelliepingree', {'color': 'blue'}), ('SenCarlLevin', {'color': 'blue'}), ('SenJohnThune', {'color': 'red'}), ('DarrellIssa', {'color': 'red'}), ('SenBobCasey', {'color': 'blue'}), ('SenRonJohnson', {'color': 'red'}), ('SenThadCochran', {'color': 'red'}), ('RepPaulRyan', {'color': 'red'}), ('SenatorMenendez', {'color': 'blue'}), ('maziehirono', {'color': 'blue'}), ('PattyMurray', {'color': 'blue'}), ('SenJohnMcCain', {'color': 'red'}), ('SenatorBarb', {'color': 'blue'}), ('SenTedCruz', {'color': 'red'}), ('SenGillibrand', {'color': 'blue'}), ('SenatorCardin', {'color': 'blue'}), ('AlanGrayson', {'color': 'blue'}), ('alfranken', {'color': 'blue'}), ('SenJohnsonSD', {'color': 'blue'}), ('SenSchumer', {'color': 'blue'}), ('SenatorIsakson', {'color': 'red'}), ('SenOrrinHatch', {'color': 'red'}), ('SenatorBoxer', {'color': 'blue'}), ('MarkWarner', {'color': 'blue'}), ('JohnDingell', {'color': 'blue'}), ('MicheleBachmann', {'color': 'red'}), ('RoyBlunt', {'color': 'red'}), ('MikeCrapo', {'color': 'red'}), ('FrankPallone', {'color': 'blue'}), ('SenSanders', {'color': 'blue'}), ('MarkUdall', {'color': 'blue'}), ('NancyPelosi', {'color': 'blue'}), ('CoryBooker', {'color': 'blue'}), ('SenatorBurr', {'color': 'red'}), ('SenatorHarkin', {'color': 'blue'}), ('SenatorCollins', {'color': 'red'}), ('JohnBoozman', {'color': 'red'}), ('RepRichardHanna', {'color': 'red'}), ('keithellison', {'color': 'blue'}), ('GovernorPerry', {'color': 'red'}), ('SenatorReid', {'color': 'blue'}), ('SenatorSessions', {'color': 'red'}), ('SenatorTomUdall', {'color': 'blue'}), ('SenFeinstein', {'color': 'blue'}), ('marcorubio', {'color': 'red'}), ('MaxineWaters', {'color': 'blue'}), ('EricCantor', {'color': 'red'}), ('SenatorWicker', {'color': 'red'}), ('MarshaBlackburn', {'color': 'red'}), ('SpeakerBoehner', {'color': 'red'}), ('SenatorLeahy', {'color': 'blue'}), ('GrahamBlog', {'color': 'red'}), ('SenBobCorker', {'color': 'red'}), ('SenDanCoats', {'color': 'red'}), ('SenatorCarper', {'color': 'blue'}), ('JohnCornyn', {'color': 'red'}), ('SenatorShaheen', {'color': 'blue'}), ('RepPerlmutter', {'color': 'blue'}), ('SenatorTimScott', {'color': 'red'}), ('SenatorBegich', {'color': 'blue'}), ('SenJackReed', {'color': 'blue'}), ('ChuckGrassley', {'color': 'red'})]\n"
       ]
      }
     ],
     "prompt_number": 289
    },
    {
     "cell_type": "code",
     "collapsed": false,
     "input": [
      "title.apply(updateG,G,set(poltweeps.index))"
     ],
     "language": "python",
     "metadata": {},
     "outputs": [
      {
       "metadata": {},
       "output_type": "pyout",
       "prompt_number": 290,
       "text": [
        "title                                            dt        \n",
        "#AlexFromTarget is a marketing creation          2014-11-03    None\n",
        "#AskJPM: Social media stunt backfires            2013-11-13    None\n",
        "#Aspenideas Festival week gets rolling           2013-06-29    None\n",
        "#BETAwards bring soul to Nokia Theater           2013-06-30    None\n",
        "#BringBackOurGirls garners global attention      2014-05-08    None\n",
        "#Brisketgate: Journos find lack of bone to pick  2014-11-15    None\n",
        "#ConstitutionDay trends on Twitter               2013-09-17    None\n",
        "#ESPY Awards celebrate the best in sports        2013-07-17    None\n",
        "#Egypt: best of the snark                        2013-07-03    None\n",
        "#GoT delivers another death you can\u2019t un-see     2014-06-01    None\n",
        "#MSSen nail-biter steals Tuesday primary show    2014-06-03    None\n",
        "#MSSen: McDaniel camp in more hot water          2014-06-05    None\n",
        "#MillionsMarch planned for Brown, Garner cases   2014-12-12    None\n",
        "#MyNYPD outreach reveals harsh abuse             2014-04-22    None\n",
        "#Pointergate gang signs draw ridicule for KSTP   2014-11-07    None\n",
        "...\n",
        "\u201922 Jump,\u2019 \u2018Dragon 2\u2032 meet in sequel-off              2014-06-14    None\n",
        "\u201950 Shades of Grey\u2019 debuts steamy trailer             2014-07-24    None\n",
        "\u201960 Minutes\u2019 apologizes for Benghazi report           2013-11-08    None\n",
        "\u201960 Minutes\u2019 profiles Tesla\u2019s Elon Musk               2014-03-30    None\n",
        "\u201cAmerican Idol\u201d lives up to hype                      2013-01-17    None\n",
        "\u201cArgo\u201d wins big at Golden Globes                      2013-01-14    None\n",
        "\u201cBe bold,\u201d Gabby Giffords tells congress              2013-01-30    None\n",
        "\u201cDirty Wars\u201d premieres in major US cities             2013-06-09    None\n",
        "\u201cFruitvale\u201d surprise winner at Sundance 2013          2013-01-27    None\n",
        "\u201cGirls\u201d gathers awards, polarized reviews             2013-01-27    None\n",
        "\u201cHistoric\u201d storm hits New England                     2013-02-07    None\n",
        "\u201cMake government work for \u2018the many\u2019\u201d                 2013-02-12    None\n",
        "\u201cOur journey is not complete\u201d                         2013-01-21    None\n",
        "\u201cTo\u2019hajiilee\u201d leaves \u2018Br Ba\u2019 fans on edge of a cliff  2013-09-09    None\n",
        "\u201cYou are free\u201d: Herschel Schacter dies at 95          2013-03-28    None\n",
        "Name: twhandle, Length: 7376, dtype: object"
       ]
      }
     ],
     "prompt_number": 290
    },
    {
     "cell_type": "code",
     "collapsed": false,
     "input": [
      "def updateG(group,G,politicians):\n",
      "    edges = itertools.combinations(group.tolist(), 2)\n",
      "    for v1,v2 in edges:\n",
      "        if v1 not in politicians or v2 not in politicians:\n",
      "            continue\n",
      "        if G.has_edge(v1, v2):\n",
      "            G[v1][v2]['weight'] += 1\n",
      "        else:\n",
      "            G.add_edge(v1, v2, weight=1)"
     ],
     "language": "python",
     "metadata": {},
     "outputs": [],
     "prompt_number": 286
    },
    {
     "cell_type": "code",
     "collapsed": false,
     "input": [
      "print (G.number_of_nodes(),G.number_of_edges())\n",
      "nx.write_gml(G,\"data/theplazz_politics.gml\")"
     ],
     "language": "python",
     "metadata": {},
     "outputs": [
      {
       "output_type": "stream",
       "stream": "stdout",
       "text": [
        "66 1863\n"
       ]
      }
     ],
     "prompt_number": 302
    }
   ],
   "metadata": {}
  }
 ]
}