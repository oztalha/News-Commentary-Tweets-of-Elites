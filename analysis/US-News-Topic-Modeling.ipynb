{
 "metadata": {
  "signature": "sha256:07270aea5bdf24769d9d35df62ca1b5b1c2faa52374c0f4466ce67e328d99a16"
 },
 "nbformat": 3,
 "nbformat_minor": 0,
 "worksheets": [
  {
   "cells": [
    {
     "cell_type": "markdown",
     "metadata": {},
     "source": [
      "# Topic Modeling on the U.S. News\n",
      "by [Talha Oz](http://talhaoz.com)\n",
      "\n",
      "Details on the project is available on [GitHub](https://github.com/oztalha/News-Commentary-Tweets-of-Elites)"
     ]
    },
    {
     "cell_type": "code",
     "collapsed": false,
     "input": [
      "import pandas as pd\n",
      "from gensim import corpora, models\n",
      "from nltk.corpus import stopwords\n",
      "import nltk\n",
      "import snowballstemmer\n",
      "import re\n",
      "from operator import itemgetter"
     ],
     "language": "python",
     "metadata": {},
     "outputs": [],
     "prompt_number": 1
    },
    {
     "cell_type": "code",
     "collapsed": false,
     "input": [
      "df = pd.read_csv('../data/US-news.csv',usecols=['dt','title','newstxt'],parse_dates=[0])\n",
      "documents = df.newstxt.tolist()"
     ],
     "language": "python",
     "metadata": {},
     "outputs": [],
     "prompt_number": 2
    },
    {
     "cell_type": "code",
     "collapsed": false,
     "input": [
      "stemmer = snowballstemmer.EnglishStemmer()\n",
      "stoplist = stopwords.words('english')\n",
      "stoplist = stemmer.stemWords(stoplist)\n",
      "stoplist = set(stoplist)"
     ],
     "language": "python",
     "metadata": {},
     "outputs": [],
     "prompt_number": 3
    },
    {
     "cell_type": "code",
     "collapsed": false,
     "input": [
      "texts=[]\n",
      "for doc in documents:\n",
      "    doc = re.sub('[!\"#%\\'()*+,-./:;<=>?@\\[\\]^_`{|}~1234567890\u2019\u201d\u201c\u2032\u2018\\\\\\]',' ', doc).split()\n",
      "    doc = stemmer.stemWords(doc)\n",
      "    text= [w.strip() for w in doc if len(w.strip())>=3 and w.strip() not in stoplist]\n",
      "    texts.append(text)"
     ],
     "language": "python",
     "metadata": {},
     "outputs": [],
     "prompt_number": 4
    },
    {
     "cell_type": "code",
     "collapsed": false,
     "input": [
      "dictionary = corpora.Dictionary(texts)\n",
      "corpus = [dictionary.doc2bow(text) for text in texts]\n",
      "tfidf = models.TfidfModel(corpus)\n",
      "corpus_tfidf = tfidf[corpus]"
     ],
     "language": "python",
     "metadata": {},
     "outputs": [],
     "prompt_number": 5
    },
    {
     "cell_type": "code",
     "collapsed": false,
     "input": [
      "n_topics = 100\n",
      "lda = models.LdaModel(corpus_tfidf, id2word=dictionary, num_topics=n_topics, passes=3, alpha='auto')\n",
      "for i in range(0, n_topics):\n",
      "    terms = [term[1] for term in lda.show_topic(i, 10)]\n",
      "    print (\"#\" + str(i) + \": \"+ \", \".join(terms))"
     ],
     "language": "python",
     "metadata": {},
     "outputs": [
      {
       "output_type": "stream",
       "stream": "stdout",
       "text": [
        "#0: preced, Index, Poor, tag, Jew, advic, Standard, vehicl, electr, batteri\n",
        "#1: Portland, Dow, Stock, Exchang, Market, trade, taper, index, stock, Japanes\n",
        "#2: enrol, milit, Saudi, trust, Human, tortur, premium, drone, Qaeda, Arabia\n",
        "#3: Ranger, Yanke, Martinez, Croatia, Derek, Jeter, symptom, mountain, Canadien, Oprah\n",
        "#4: Swift, Wisconsin, Denmark, Taylor, Milwauke, Walker, Shah, Shake, Real, statewid"
       ]
      },
      {
       "output_type": "stream",
       "stream": "stdout",
       "text": [
        "\n",
        "#5: Egypt, Egyptian, Bieber, Carney, Morsi, Cairo, Sisi, Moham, coalit, Islamist\n",
        "#6: Uber, Sgt, kidnap, overcom, WikiLeak, ride, taxi, excel, interpret, Space\n",
        "#7: Summer, Udall, Gardner, hefti, swirl, Buck, Mag, Joss, wunderkind, Colorado"
       ]
      },
      {
       "output_type": "stream",
       "stream": "stdout",
       "text": [
        "\n",
        "#8: Colombia, Djokov, AMC, Tyrion, transgend, Novak, Dead, drama, Jarrett, paint\n",
        "#9: Romney, Bush, separatist, Jeb, Warrior, gun, Mitt, POLITICO, Adelson, Sandi"
       ]
      },
      {
       "output_type": "stream",
       "stream": "stdout",
       "text": [
        "\n",
        "#10: Beat, refuge, Solang, rapper, Amanda, eBay, Macklemor, tent, publicist, merit\n",
        "#11: Hous, percent, Obama, Republican, Senat, vote, Democrat, govern, would, said\n",
        "#12: Cuomo, outbreak, Damascus, Anaheim, Walmart, businessman, nerv, watchdog, princip, Dylan"
       ]
      },
      {
       "output_type": "stream",
       "stream": "stdout",
       "text": [
        "\n",
        "#13: Bush, hospit, Georg, list, daughter, diseas, Africa, alway, semifin, Cheney\n",
        "#14: Clinton, Hillari, Amazon, write, Angele, Los, Palin, ABC, may, climat\n",
        "#15: Spitzer, Memphi, Grizzli, Laker, Coach, Soldier, NRA, regret, Statist, McAuliff"
       ]
      },
      {
       "output_type": "stream",
       "stream": "stdout",
       "text": [
        "\n",
        "#16: Knick, Maverick, Cemeteri, scream, Whole, Andre, handgun, royalti, fragment, trilog\n",
        "#17: NBA, Spur, Heat, Pacer, Antonio, Miami, Thunder, Confer, Indiana, Final"
       ]
      },
      {
       "output_type": "stream",
       "stream": "stdout",
       "text": [
        "\n",
        "#18: Turkey, Turkish, Cuba, Erdogan, wed, Tayyip, Recep, Istanbul, Anna, Cuban\n",
        "#19: Kansa, airstrik, NHL, Kurdish, jihadist, Round, Eagl, milit, mom, Islamic"
       ]
      },
      {
       "output_type": "stream",
       "stream": "stdout",
       "text": [
        "\n",
        "#20: Clooney, Dustin, defect, Morri, refineri, POW, Moran, Silva, Ortiz, limo\n",
        "#21: Oklahoma, Harvard, Playoff, Cincinnati, par, mental, Wild, Palestinian, Prevent, Palestin"
       ]
      },
      {
       "output_type": "stream",
       "stream": "stdout",
       "text": [
        "\n",
        "#22: Award, Emmi, award, terribl, actor, Academi, nomin, Nokia, Oscar, comedi\n",
        "#23: polic, protest, juri, Ford, Zimmerman, King, march, Polic, violenc, murder"
       ]
      },
      {
       "output_type": "stream",
       "stream": "stdout",
       "text": [
        "\n",
        "#24: Morgan, marathon, Marathon, hadn, Citizen, timelin, beef, Vine, preview, Gazprom\n",
        "#25: Window, AFPHous, Deni, cat, Centr, Turtl, McDonough, Cat, GIFs, Rutger\n",
        "#26: Jackson, Mount, keynot, DNC, dad, Kenya, Libyan, lockdown, Tripoli, diagnosi"
       ]
      },
      {
       "output_type": "stream",
       "stream": "stdout",
       "text": [
        "\n",
        "#27: Soni, Interview, Joan, Alabama, Pictur, Burn, Shaheen, Augusta, Interior, Hampshir\n",
        "#28: NATO, shame, wealth, Barra, mandatori, pollut, Societi, Maduro, embark, Nicola\n"
       ]
      },
      {
       "output_type": "stream",
       "stream": "stdout",
       "text": [
        "#29: Abramson, Walter, Jill, outag, Baquet, Editor, cocktail, scientif, newsroom, shootout\n",
        "#30: plea, breast, breakfast, transcript, Taco, shoe, syndic, Columbus, secret, Read\n",
        "#31: ECB, Ireland, Perez, deposit, bank, Cain, Bank, Margaret, Geithner, Northern\n",
        "#32: Rice, Raven, leagu, Goodel, NFL, elev, overturn, Ray, breach, Command"
       ]
      },
      {
       "output_type": "stream",
       "stream": "stdout",
       "text": [
        "\n",
        "#33: plane, Scotland, Graham, District, Airlin, Constitut, pilot, Malaysian, brain, Oregon\n",
        "#34: Hong, Kong, golf, Throne, RNC, Mich, gate, withdrew, Eight, Carey\n",
        "#35: Hagel, Chuck, Qaida, desert, Libya, Jazeera, downgrad, Khattala, Thousand, aficionado"
       ]
      },
      {
       "output_type": "stream",
       "stream": "stdout",
       "text": [
        "\n",
        "#36: Arthur, anybodi, Grant, blank, Better, sampl, Fusion, albeit, Antoni, Shanghai\n",
        "#37: Seri, Leagu, inning, Wood, seventh, Tiger, basebal, plant, pitch, Sox"
       ]
      },
      {
       "output_type": "stream",
       "stream": "stdout",
       "text": [
        "\n",
        "#38: McDaniel, Cochran, Uruguay, Spain, Suarez, Itali, Gruber, Lui, Madrid, Thad\n",
        "#39: Seattl, Correspond, moon, Goldman, sun, Marriag, eclips, Seahawk, Ramadan, Halloween"
       ]
      },
      {
       "output_type": "stream",
       "stream": "stdout",
       "text": [
        "\n",
        "#40: Snowden, River, Indianapoli, Jesus, oversea, Luca, Abram, Alexand, Protect, uniti\n",
        "#41: Taliban, club, Playoff, Beyonc, Nigerian, Scalis, King, behead, fjs, Drew\n",
        "#42: Franco, Late, Letterman, Meyer, Bruce, Fallon, Kent, Seth, Rogen, handout"
       ]
      },
      {
       "output_type": "stream",
       "stream": "stdout",
       "text": [
        "\n",
        "#43: verdict, Blasio, Liu, Angel, southeastern, Stand, cruis, depth, Malley, Ground\n",
        "#44: Ebola, Franci, Pope, virus, pope, Vatican, tornado, church, Sam, quarantin"
       ]
      },
      {
       "output_type": "stream",
       "stream": "stdout",
       "text": [
        "\n",
        "#45: footag, Code, Price, truck, crude, Art, oil, bomber, band, Ansel\n",
        "#46: Cosbi, Stone, Roll, Ecuador, land, Miss, Jerri, Holm, shell, Chipotl"
       ]
      },
      {
       "output_type": "stream",
       "stream": "stdout",
       "text": [
        "\n",
        "#47: Palestinian, tear, Abbas, parad, Vaniti, Charlott, shadow, Barclay, teacher, Kimmel\n",
        "#48: Hachett, Bull, Oliver, Mozilla, Newsweek, Nina, comet, Eich, Reddit, conspir\n",
        "#49: insur, Belgium, Affordabl, Care, Obamacar, Mandela, repeal, hors, health, healthcar"
       ]
      },
      {
       "output_type": "stream",
       "stream": "stdout",
       "text": [
        "\n",
        "#50: Princ, babi, royal, Royal, Baker, Cambridg, Ghana, ferri, midfield, Duke\n",
        "#51: Cup, World, match, Brazil, Argentina, FIFA, Nigeria, Earnest, Germani, goal"
       ]
      },
      {
       "output_type": "stream",
       "stream": "stdout",
       "text": [
        "\n",
        "#52: Kim, Korean, Pride, Jong, memoir, Korea, Lincoln, checkpoint, North, recognit\n",
        "#53: Plazz, random, commentari, tweet, famous, find, pool, funni, clever, But"
       ]
      },
      {
       "output_type": "stream",
       "stream": "stdout",
       "text": [
        "\n",
        "#54: Silver, Luther, Lopez, arena, Hood, FiveThirtyEight, casualti, Fame, slain, Trey"
       ]
      },
      {
       "output_type": "stream",
       "stream": "stdout",
       "text": [
        "\n",
        "#55: weird, formula, infring, backpack, plagiar, clue, Nicol, liquid, layer, Watt"
       ]
      },
      {
       "output_type": "stream",
       "stream": "stdout",
       "text": [
        "\n",
        "#56: probe, planet, Trade, Gordon, NASA, discoveri, solar, Metropolitan, Krugman, space\n",
        "#57: New, York, state, game, Sunday, show, first, year, Saturday, Citi"
       ]
      },
      {
       "output_type": "stream",
       "stream": "stdout",
       "text": [
        "\n",
        "#58: ISIL, Microsoft, Levant, ISIS, Armstrong, Ballmer, softwar, Delawar, cloud, Apple\n",
        "#59: Six, Tallahasse, Palm, Marlin, incomplet, Westwood, lotteri, forcibl, jackpot, transmit"
       ]
      },
      {
       "output_type": "stream",
       "stream": "stdout",
       "text": [
        "\n",
        "#60: Johnson, Perri, Met, Navi, Easter, Rick, Darren, Patrol, Station, Salvador"
       ]
      },
      {
       "output_type": "stream",
       "stream": "stdout",
       "text": [
        "\n",
        "#61: Blackhawk, Stanley, Grime, Draghi, King, Bruin, Lion, Thompson, puck, Alison"
       ]
      },
      {
       "output_type": "stream",
       "stream": "stdout",
       "text": [
        "\n",
        "#62: Iraq, Iraqi, Baghdad, milit, Maliki, ISIS, Rodriguez, Mosul, Islamic, fighter"
       ]
      },
      {
       "output_type": "stream",
       "stream": "stdout",
       "text": [
        "\n",
        "#63: Nixon, Peterson, Harrison, Walsh, Juan, Richardson, gossip, Adrian, Andi, Pablo"
       ]
      },
      {
       "output_type": "stream",
       "stream": "stdout",
       "text": [
        "\n",
        "#64: Colbert, Foley, German, Portug, Merkel, Dempsey, Shiit, Sunni, partner, Comedi\n",
        "#65: Batman, Affleck, Steel, Superman, Emmanuel, earthquak, CPAC, straw, Dunand, quak"
       ]
      },
      {
       "output_type": "stream",
       "stream": "stdout",
       "text": [
        "\n",
        "#66: Clipper, snow, storm, Weather, rain, Connecticut, temperatur, contracept, Brook, Georgia\n",
        "#67: impeach, quell, Gaga, Knowl, HuffPost, heaven, nicknam, downward, gradual, rehears"
       ]
      },
      {
       "output_type": "stream",
       "stream": "stdout",
       "text": [
        "\n",
        "#68: Shinseki, hole, McDonnel, Mart, Liberia, Marc, Death, Penguin, Wal, Logan\n",
        "#69: Choic, amnesti, audit, mock, Live, Key, Allison, comedi, SNL, yell"
       ]
      },
      {
       "output_type": "stream",
       "stream": "stdout",
       "text": [
        "\n",
        "#70: marriag, sex, coupl, gay, marri, Rica, equal, licens, Greec, lesbian\n",
        "#71: IMF, Hard, Monetari, Chavez, Fund, Farm, Oregonian, Michigan, Eid, thwart"
       ]
      },
      {
       "output_type": "stream",
       "stream": "stdout",
       "text": [
        "\n",
        "#72: Gaza, Hama, Israeli, Israel, Netherland, truce, rocket, Strip, milit, Semifin\n",
        "#73: Afghan, Afghanistan, Iowa, Braley, sequel, Kabul, Ernst, Karzai, Joni, Hamid"
       ]
      },
      {
       "output_type": "stream",
       "stream": "stdout",
       "text": [
        "\n",
        "#74: Young, Good, Sebelius, Plus, embargo, forum, Kathleen, ration, digniti, Vote\n",
        "#75: Holi, Highway, Irish, Vatican, cardin, Huff, Joshua, transact, palac, Portman"
       ]
      },
      {
       "output_type": "stream",
       "stream": "stdout",
       "text": [
        "\n",
        "#76: Sterl, Christi, Cantor, primari, Jersey, ballot, Gov, governor, Brat, donor\n",
        "#77: Davi, abort, touchdown, yard, quarterback, Winston, Bronco, Denver, Wendi, AFC"
       ]
      },
      {
       "output_type": "stream",
       "stream": "stdout",
       "text": [
        "\n",
        "#78: Pelosi, IRS, Lerner, Leader, Tea, French, Reid, Minor, amend, Issa\n",
        "#79: Jewish, Seinfeld, Chrome, AFPIt, Movi, chef, Traci, ambul, Semit, browser"
       ]
      },
      {
       "output_type": "stream",
       "stream": "stdout",
       "text": [
        "\n",
        "#80: Donetsk, Poroshenko, rebel, Disney, Petro, soccer, stanc, Seven, Willi, Luhansk\n",
        "#81: Dutch, inaugur, Cowboy, Quinn, rubl, Liber, Jennif, Prior, Bibl, Eve"
       ]
      },
      {
       "output_type": "stream",
       "stream": "stdout",
       "text": [
        "\n",
        "#82: Chelsea, Rodger, immigr, Wire, Summit, Hispan, class, Rand, middl, citizenship\n",
        "#83: Camp, Dunham, Guantanamo, coffe, slogan, Labour, buyer, flock, Ledger, Lena"
       ]
      },
      {
       "output_type": "stream",
       "stream": "stdout",
       "text": [
        "\n",
        "#84: Lynch, Commission, Bratton, Gawker, Officer, loot, reboot, swap, signup, Platt\n",
        "#85: Dame, Lawn, Charger, fish, Emma, closest, hottest, Glass, turnout, curtain"
       ]
      },
      {
       "output_type": "stream",
       "stream": "stdout",
       "text": [
        "\n",
        "#86: recal, Cyrus, Miley, sandwich, MTV, Feed, Petersen, Stop, heir, Video\n",
        "#87: Grimm, AT&T, Cotton, Arlington, Congressman, humanitarian, barrel, OPEC, lime, Cancer"
       ]
      },
      {
       "output_type": "stream",
       "stream": "stdout",
       "text": [
        "\n",
        "#88: Yellen, Fed, Reserv, Feder, Bernank, Janet, Boy, stadium, funer, loan\n",
        "#89: fenc, Appeal, client, bailout, Share, Circuit, exit, Nike, Wife, Mission"
       ]
      },
      {
       "output_type": "stream",
       "stream": "stdout",
       "text": [
        "\n",
        "#90: Kerri, Secretari, Israel, Iran, debt, student, Israeli, sanction, Minist, nuclear\n",
        "#91: Ukrain, Russian, Ukrainian, Kiev, Russia, eastern, pro, Korea, Crimea, Moscow"
       ]
      },
      {
       "output_type": "stream",
       "stream": "stdout",
       "text": [
        "\n",
        "#92: Apple, iPhon, Abdullah, Cook, Phoenix, Dre, iPad, Van, boast, Mac\n",
        "#93: Algeria, patent, Instagram, Sheldon, Paltrow, Android, Parson, Bang, Gillibrand, buyout"
       ]
      },
      {
       "output_type": "stream",
       "stream": "stdout",
       "text": [
        "\n",
        "#94: Syria, Syrian, Assad, chemic, weapon, airport, war, militari, Bashar, Russian\n",
        "#95: Control, massacr, Draper, startup, Fisher, Jare, Hernandez, Wickerham, sneak, gray\n",
        "#96: Pistorius, unrest, Diego, strict, riot, cigarett, Occupi, Filner, McMillan, cellphon"
       ]
      },
      {
       "output_type": "stream",
       "stream": "stdout",
       "text": [
        "\n",
        "#97: Rio, Sanford, runoff, Warner, Alibaba, LGBT, monetari, Janeiro, Scout, subscrib\n",
        "#98: Weiner, Christma, Kardashian, AIDS, Grammi, Anthoni, Nazi, Stapl, holiday, tree"
       ]
      },
      {
       "output_type": "stream",
       "stream": "stdout",
       "text": [
        "\n",
        "#99: Cup, match, seed, coach, Mexico, playoff, round, tournament, NCAA, defeat\n"
       ]
      }
     ],
     "prompt_number": 6
    },
    {
     "cell_type": "code",
     "collapsed": false,
     "input": [
      "lsi = models.LsiModel(corpus_tfidf, id2word=dictionary, num_topics=n_topics, onepass=False, power_iters=3)\n",
      "for i in range(0, n_topics):\n",
      "    terms = [term[1] for term in lsi.show_topic(i, 10)]\n",
      "    print (\"#\" + str(i) + \": \"+ \", \".join(terms))"
     ],
     "language": "python",
     "metadata": {},
     "outputs": [
      {
       "output_type": "stream",
       "stream": "stdout",
       "text": [
        "#0: Obama, Hous, Republican, Senat, Presid, govern, said, New, vote, percent\n",
        "#1: random, Plazz, tweet, commentari, famous, find, Below, curat, summar, But\n",
        "#2: Republican, Senat, Hous, bill, vote, Democrat, Boehner, polic, Obama, immigr\n",
        "#3: Ukrain, Russian, Russia, Putin, Ukrainian, militari, Obama, Syria, Presid, game\n",
        "#4: polic, percent, Ferguson, protest, Brown, rate, Feder, Reserv, offic, shoot\n",
        "#5: game, polic, percent, Ferguson, win, team, protest, Cup, Ukrain, Russian\n",
        "#6: Ukrain, Russian, polic, Israel, protest, Israeli, Obama, Ukrainian, Russia, Syria\n",
        "#7: Snowden, Israeli, Israel, NSA, Gaza, Palestinian, Hama, Edward, percent, surveil\n",
        "#8: Clinton, Hous, candid, elect, Christi, Hillari, percent, poll, presidenti, Democrat\n",
        "#9: marriag, Obama, Israeli, Israel, Gaza, Clinton, sex, Palestinian, gay, bill\n",
        "#10: Snowden, NSA, insur, marriag, health, Edward, Senat, Obama, surveil, Ebola\n",
        "#11: marriag, sex, Syria, gay, Syrian, Court, Yellen, Israeli, Reserv, rule\n",
        "#12: Apple, insur, health, Israel, Obama, Israeli, Clinton, Syrian, Syria, Gaza"
       ]
      },
      {
       "output_type": "stream",
       "stream": "stdout",
       "text": [
        "\n",
        "#13: Ebola, Clinton, percent, health, immigr, poll, insur, marriag, Snowden, snow\n",
        "#14: snow, Ebola, storm, Christi, insur, Apple, percent, Yellen, compani, Jersey\n",
        "#15: immigr, percent, Obama, Yellen, Senat, snow, Reserv, Feder, Fed, health\n",
        "#16: Christi, Apple, Jersey, immigr, compani, iPhon, Day, film, Chris, holiday\n",
        "#17: Clinton, Hillari, Christi, snow, Ebola, Jersey, storm, poll, percent, Obama\n",
        "#18: Ebola, snow, storm, virus, insur, immigr, Christi, patient, worker, Africa\n",
        "#19: Cup, World, Christi, Morsi, match, immigr, Brazil, Egypt, Egyptian, Germani\n",
        "#20: immigr, Iran, nuclear, Christi, Cup, World, Jersey, Morsi, Rouhani, Iraq\n",
        "#21: immigr, debt, Morsi, govern, shutdown, Egypt, Egyptian, Christi, Yellen, snow\n",
        "#22: North, Korea, Korean, Morsi, Kim, Christi, nuclear, Syria, wage, Syrian\n",
        "#23: North, Korea, Korean, Apple, Morsi, immigr, Ford, Kim, mayor, Obama"
       ]
      },
      {
       "output_type": "stream",
       "stream": "stdout",
       "text": [
        "\n",
        "#24: immigr, Christi, Hous, bill, Clinton, Blasio, Apple, White, mayor, Korea\n",
        "#25: Zimmerman, Iraq, Blasio, immigr, mayor, Martin, Ford, protest, York, Morsi\n",
        "#26: Zimmerman, Iraq, Martin, gun, Iraqi, chemic, Trayvon, Morsi, weapon, ISIL\n",
        "#27: Heat, game, NBA, Spur, NFL, Pacer, Rice, Miami, Sox, Game\n",
        "#28: Iran, nuclear, Zimmerman, Syrian, Iraq, chemic, Rouhani, Syria, Boehner, Ford\n",
        "#29: wage, minimum, Obama, Iran, immigr, percent, Boehner, worker, Zimmerman, Kerri\n",
        "#30: Apple, Twitter, user, Franci, Pope, iPhon, Bush, Morsi, Facebook, bill\n",
        "#31: Apple, debt, Zimmerman, Snowden, Senat, North, wage, Korea, Blasio, iPhon\n",
        "#32: wage, minimum, Boehner, Zimmerman, Obama, worker, bill, Senat, Christi, percent"
       ]
      },
      {
       "output_type": "stream",
       "stream": "stdout",
       "text": [
        "\n",
        "#33: Franci, Pope, Apple, Vatican, holiday, pope, Clinton, Day, Bush, Christma\n",
        "#34: Boston, Franci, Pope, Sox, Sterl, Ford, Iran, Rice, inning, Vatican\n",
        "#35: Bush, Apple, Romney, Zimmerman, Olympic, Clinton, vote, Ford, wage, Sochi\n",
        "#36: Boston, Apple, York, Bush, Sox, Clinton, compani, billion, vote, poll\n",
        "#37: holiday, Olympic, Franci, Pope, Sochi, Christma, Day, Vatican, Ford, pope\n",
        "#38: Olympic, holiday, Sochi, Bush, Pope, Franci, Christma, Vatican, Day, medal\n",
        "#39: Ford, Toronto, Olympic, gun, York, Rob, job, crack, video, Blasio\n",
        "#40: Sterl, Clipper, protest, debt, White, Boehner, gun, Brown, flight, holiday\n",
        "#41: Sterl, protest, Clipper, Turkey, Turkish, Ford, Pope, Franci, King, Angele"
       ]
      },
      {
       "output_type": "stream",
       "stream": "stdout",
       "text": [
        "\n",
        "#42: Ford, job, Toronto, Blasio, user, York, unemploy, bank, Twitter, billion\n",
        "#43: bill, plane, flight, McConnel, Reid, Cruz, gun, vote, Malaysian, Airlin\n",
        "#44: Bush, bill, gun, Sterl, plane, flight, Malaysian, Airlin, Boehner, Romney\n",
        "#45: gun, Snowden, Hous, marriag, shutdown, compani, Apple, White, price, juri\n",
        "#46: King, film, Ranger, Blackhawk, Sox, Soni, goal, Stanley, Boston, Heat\n",
        "#47: Texa, film, King, Rice, abort, Davi, Bush, Cruz, Perri, Reid\n",
        "#48: Cruz, Texa, Bush, job, King, Sterl, wage, White, unemploy, gun"
       ]
      },
      {
       "output_type": "stream",
       "stream": "stdout",
       "text": [
        "\n",
        "#49: Rice, video, Goodel, Raven, Sterl, Ray, King, Kerri, elev, NFL\n",
        "#50: Scotland, job, King, Cameron, gun, film, British, Romney, protest, Bush\n",
        "#51: Scotland, King, user, bill, gun, Cameron, debt, immigr, Sterl, Award\n",
        "#52: Boehner, Kerri, Reid, Court, marriag, budget, Suprem, Texa, Zimmerman, immigr\n",
        "#53: percent, Boehner, job, elect, Kerri, John, unemploy, White, Romney, CIA\n",
        "#54: Bush, Kerri, Paul, Romney, debt, budget, Texa, World, San, abort\n",
        "#55: Paul, Wimbledon, Djokov, film, bank, William, Putin, Open, Cruz, Kerri\n",
        "#56: gun, Mandela, Bergdahl, Taliban, film, Afghanistan, Snowden, attack, Cuba, Afghan\n",
        "#57: Kerri, gun, Scotland, Cruz, Cameron, Iran, bill, Hagel, Romney, Secretari"
       ]
      },
      {
       "output_type": "stream",
       "stream": "stdout",
       "text": [
        "\n",
        "#58: Romney, Bush, Paul, Mitt, Texa, gun, film, Davi, Boston, Court\n",
        "#59: Putin, film, Blasio, user, Yellen, compani, Kerri, bank, Romney, Cosbi\n",
        "#60: student, film, Cosbi, gun, Kerri, Bush, school, percent, sexual, job\n",
        "#61: Boston, Bergdahl, gun, Taliban, bomb, Marathon, Afghanistan, San, Paul, prison\n",
        "#62: Mandela, Turkey, Weiner, Turkish, climat, Boston, Scotland, Erdogan, Googl, pipelin\n",
        "#63: Romney, Paul, Kerri, Bush, Hagel, Mitt, Reid, vote, Cosbi, Bergdahl\n",
        "#64: gun, Boehner, Weiner, Cosbi, Suprem, Googl, bank, NSA, Bush, IRS\n",
        "#65: debt, Romney, Kerri, Googl, Cosbi, Court, Suprem, episod, Colbert, Mandela"
       ]
      },
      {
       "output_type": "stream",
       "stream": "stdout",
       "text": [
        "\n",
        "#66: Mandela, Paul, debt, South, Weiner, Nelson, McConnel, shutdown, student, White\n",
        "#67: Weiner, debt, Holder, Bergdahl, Anthoni, McConnel, Brown, Taliban, mayor, Paul\n",
        "#68: Cosbi, San, climat, Weiner, Obama, sexual, Scotland, attack, chang, Francisco\n",
        "#69: San, Francisco, William, Texa, student, Cosbi, Giant, season, Reid, Putin\n",
        "#70: Weiner, McConnel, Cruz, Kentucki, Christma, Paul, climat, Grime, Hagel, Mandela\n",
        "#71: Weiner, Mandela, Boston, Kerri, Amazon, South, bomb, Day, Christma, Nelson\n",
        "#72: Cosbi, climat, shutdown, McConnel, debt, Mandela, chang, Kentucki, William, assault\n",
        "#73: bank, Turkey, budget, percent, Turkish, Draghi, protest, Christma, European, Davi"
       ]
      },
      {
       "output_type": "stream",
       "stream": "stdout",
       "text": [
        "\n",
        "#74: Bieber, Cosbi, Brown, attack, debt, Holder, Weiner, shutdown, Blasio, climat\n",
        "#75: Putin, Cosbi, McConnel, rate, Draghi, debt, bank, Abramson, Snowden, Blasio\n",
        "#76: Putin, Googl, Weiner, Cruz, Brown, Donetsk, climat, Hagel, Twitter, Vladimir\n",
        "#77: Googl, Boston, Cosbi, student, Bergdahl, IRS, CIA, Holder, Paul, school\n",
        "#78: vote, Weiner, San, shutdown, Holder, Cruz, Davi, Turkey, abort, Turkish\n",
        "#79: Cuba, McConnel, Mandela, Rubio, Castro, marijuana, William, Cuban, Reid, Cantor\n",
        "#80: student, Cosbi, budget, Hagel, attack, bill, Cheney, Romney, cut, debt"
       ]
      },
      {
       "output_type": "stream",
       "stream": "stdout",
       "text": [
        "\n",
        "#81: King, Jame, bank, Cantor, Rodriguez, seri, Yanke, Colbert, Koch, Miami\n",
        "#82: William, Christma, Colbert, bill, Princ, CIA, Virginia, Day, McDonnel, Cosbi\n",
        "#83: Palin, William, Paul, price, Amazon, Princ, elect, vote, Facebook, Sarah\n",
        "#84: Cuba, Mandela, Christma, Carney, Cheney, CIA, Googl, student, Thanksgiv, White\n",
        "#85: Colbert, Cheney, host, student, Fallon, Soni, Mandela, Yellen, York, Best\n",
        "#86: Googl, video, Cantor, Colbert, Iowa, episod, juri, Braley, Afghanistan, Princ\n",
        "#87: Bergdahl, Putin, militari, attack, Paul, Bieber, Cantor, Boston, Snowden, protest\n",
        "#88: Palin, Romney, Cantor, Amazon, King, Iowa, juri, Sarah, McDaniel, Braley"
       ]
      },
      {
       "output_type": "stream",
       "stream": "stdout",
       "text": [
        "\n",
        "#89: Amazon, Crimea, Russia, Iowa, marijuana, Donetsk, Pacer, Braley, Hagel, Ernst\n",
        "#90: Colbert, Hagel, Amazon, Israel, Bergdahl, Blasio, shutdown, Netanyahu, Afghanistan, student\n",
        "#91: Facebook, Scotland, Cheney, Uber, Palin, Cosbi, Colbert, Warren, Sen, quarter\n",
        "#92: Amazon, Christma, marijuana, Blasio, Googl, Bergdahl, William, retail, Thanksgiv, store\n",
        "#93: Googl, marijuana, Bergdahl, Palin, Garner, juri, Brown, Cuba, Rouhani, state\n",
        "#94: Palin, Brown, Googl, Cruz, compani, Garner, Paul, Cantor, Cuomo, juri\n",
        "#95: Christma, King, Day, quarter, Cantor, oil, Bowl, Yellen, Giant, Palin\n",
        "#96: Brown, marijuana, Palin, Hagel, Cantor, Colbert, Amazon, Blasio, York, Day\n",
        "#97: Cuba, marijuana, Amazon, Colbert, pipelin, Keyston, Hagel, King, Boehner, Landrieu"
       ]
      },
      {
       "output_type": "stream",
       "stream": "stdout",
       "text": [
        "\n",
        "#98: marijuana, Yellen, protest, Hagel, Republican, Putin, Paul, Facebook, Weiner, million\n",
        "#99: Palin, Googl, Russia, Putin, Crimea, marijuana, Servic, women, Thanksgiv, Yellen\n"
       ]
      }
     ],
     "prompt_number": 7
    },
    {
     "cell_type": "code",
     "collapsed": false,
     "input": [
      "i = 0\n",
      "print ('Topic distribution on an arbitrarily selected document:\\n')\n",
      "print ('Original document: ' + documents[i])\n",
      "print ('Preprocessed document: ' + str(texts[i]))"
     ],
     "language": "python",
     "metadata": {},
     "outputs": [
      {
       "output_type": "stream",
       "stream": "stdout",
       "text": [
        "Topic distribution on an arbitrarily selected document:\n",
        "\n",
        "Original document:  Pope Francis (in white) visits Hagia Sophia Mosque (Santa Sofia) on Saturday\u00a0in Istanbul. The pope held talks with Turkish President Recep Tayyip Erdogan in Ankara on Friday, calling for dialogue between faiths to end the Islamist extremism plaguing the Middle East. AFP PHOTO / FILIPPO MONTEFORTEPope Francis ended a three-day visit to Turkey aimed at bridging\u00a0the divide between the Catholic and Orthodox churches while also\u00a0bringing greater understanding between Muslims and Christians amid the growing threat of the Islamic State on Sunday.Francis spent his first day in Turkey meeting with Turkish President Recep Tayyip Erdogan and other leaders Friday in the nation\u2019s capitol city Ankara, CNN reports. The pope called for people of different religions to unite with respect for all human life and religious freedom in the face of growing religious persecution by terrorist groups such as the Islamic State.\u201cFanaticism and fundamentalism, as well as irrational fears which foster misunderstanding and discrimination, need to be countered by the solidarity of all believers,\u201d Pope Francis said to Turkish leaders\u00a0on Friday.During his trip the Pope also traveled to Istanbul, where he participated in a Muslim prayer Saturday with the grand mufti of Istanbul, Rahmi Yaran, in the city\u2019s historic Sultan Ahmet Mosque.Later that day, the pope met with Ecumenical Patriarch Bartholomew for a joint prayer service, where, in what many have termed \u201ca remarkable display of papal deference,\u201d Francis bowed to Bartholomew I and asked for his blessing, Al Jazeera reports. The Orthodox church split from the Catholic church in year 1054 over differences that included the papacy and patriarchs\u2019 subservient role.Pope Francis\u2019 visit this weekend marked the fourth time a pope has visited Turkey, the BBC reports. \n",
        "Preprocessed document: ['Pope', 'Franci', 'white', 'visit', 'Hagia', 'Sophia', 'Mosqu', 'Santa', 'Sofia', 'Saturday', 'Istanbul', 'The', 'pope', 'held', 'talk', 'Turkish', 'Presid', 'Recep', 'Tayyip', 'Erdogan', 'Ankara', 'Friday', 'call', 'dialogu', 'faith', 'end', 'Islamist', 'extrem', 'plagu', 'Middl', 'East', 'AFP', 'PHOTO', 'FILIPPO', 'MONTEFORTEPope', 'Franci', 'end', 'three', 'day', 'visit', 'Turkey', 'aim', 'bridg', 'divid', 'Cathol', 'Orthodox', 'church', 'also', 'bring', 'greater', 'understand', 'Muslim', 'Christian', 'amid', 'grow', 'threat', 'Islamic', 'State', 'Sunday', 'Franci', 'spent', 'first', 'day', 'Turkey', 'meet', 'Turkish', 'Presid', 'Recep', 'Tayyip', 'Erdogan', 'leader', 'Friday', 'nation', 'capitol', 'citi', 'Ankara', 'CNN', 'report', 'The', 'pope', 'call', 'peopl', 'differ', 'religion', 'unit', 'respect', 'human', 'life', 'religi', 'freedom', 'face', 'grow', 'religi', 'persecut', 'terrorist', 'group', 'Islamic', 'State', 'Fanatic', 'fundament', 'well', 'irrat', 'fear', 'foster', 'misunderstand', 'discrimin', 'need', 'counter', 'solidar', 'believ', 'Pope', 'Franci', 'said', 'Turkish', 'leader', 'Friday', 'Dure', 'trip', 'Pope', 'also', 'travel', 'Istanbul', 'particip', 'Muslim', 'prayer', 'Saturday', 'grand', 'mufti', 'Istanbul', 'Rahmi', 'Yaran', 'citi', 'histor', 'Sultan', 'Ahmet', 'Mosqu', 'Later', 'day', 'pope', 'met', 'Ecumen', 'Patriarch', 'Bartholomew', 'joint', 'prayer', 'servic', 'mani', 'term', 'remark', 'display', 'papal', 'defer', 'Franci', 'bow', 'Bartholomew', 'ask', 'bless', 'Jazeera', 'report', 'The', 'Orthodox', 'church', 'split', 'Cathol', 'church', 'year', 'differ', 'includ', 'papaci', 'patriarch', 'subservi', 'role', 'Pope', 'Franci', 'visit', 'weekend', 'mark', 'fourth', 'time', 'pope', 'visit', 'Turkey', 'BBC', 'report']\n"
       ]
      }
     ],
     "prompt_number": 8
    },
    {
     "cell_type": "code",
     "collapsed": false,
     "input": [
      "print ('Which LDA topic maximally describes this document?')\n",
      "print ('Topic probability mixture: ',end=\"\")\n",
      "for j,k in lda[corpus[i]]:\n",
      "    print('(%d, %3.2f)' % (j,k), end = ' ')\n",
      "print ('\\nTopic with the highest probability: topic #' + str(max(lda[corpus[i]],key=itemgetter(1))[0]))"
     ],
     "language": "python",
     "metadata": {},
     "outputs": [
      {
       "output_type": "stream",
       "stream": "stdout",
       "text": [
        "Which LDA topic maximally describes this document?\n",
        "Topic probability mixture: (11, 0.17) (14, 0.03) (18, 0.08) (23, 0.02) (44, 0.27) (57, 0.32) (90, 0.04) \n",
        "Topic with the highest probability: topic #57\n"
       ]
      }
     ],
     "prompt_number": 9
    },
    {
     "cell_type": "code",
     "collapsed": false,
     "input": [
      "print ('Which LSI topic maximally describes a document?')\n",
      "print ('Topic probability mixture: ',end=\"\")\n",
      "for j,k in lsi[corpus[i]]:\n",
      "    print('(%d, %3.2f)' % (j,k), end = ' ')\n",
      "print ('\\nTopic with the highest probability: topic #' + str(max(lsi[corpus[i]],key=itemgetter(1))[0]))"
     ],
     "language": "python",
     "metadata": {},
     "outputs": [
      {
       "output_type": "stream",
       "stream": "stdout",
       "text": [
        "Which LSI topic maximally describes a document?\n",
        "Topic probability mixture: (0, 3.73) (1, 0.50) (2, 1.55) (3, -1.02) (4, 0.52) (5, 0.07) (6, 0.95) (7, 0.66) (8, -0.06) (9, -0.09) (10, -0.62) (11, 0.50) (12, -1.05) (13, -0.20) (14, 0.59) (15, -0.30) (16, 1.95) (17, -0.24) (18, 0.23) (19, 1.67) (20, -0.12) (21, -0.55) (22, 0.17) (23, -1.22) (24, -0.16) (25, -0.50) (26, -1.52) (27, -0.94) (28, 1.86) (29, 0.15) (30, 3.32) (31, -1.24) (32, -0.21) (33, -4.26) (34, -2.82) (35, 0.00) (36, 0.46) (37, -2.87) (38, 3.02) (39, 0.20) (40, -1.90) (41, 0.08) (42, -1.04) (43, 0.75) (44, -0.84) (45, -0.75) (46, 0.20) (47, -0.67) (48, -0.25) (49, 0.20) (50, -1.37) (51, -0.60) (52, 0.52) (53, -0.84) (54, -0.64) (55, 0.20) (56, -0.04) (57, -0.01) (58, 0.27) (59, 1.17) (60, 0.55) (61, -0.26) (62, -1.98) (63, -0.38) (64, 0.36) (65, 0.43) (66, 0.96) (67, -0.58) (68, -0.32) (69, -0.76) (70, 0.37) (71, 0.76) (72, 0.17) (73, 1.71) (74, -0.56) (75, 1.43) (76, 0.14) (77, 0.09) (78, 1.05) (79, 0.23) (80, 0.32) (81, 0.26) (82, 0.78) (83, -0.85) (84, -0.47) (85, -0.50) (86, -0.24) (87, 0.09) (88, -0.05) (89, -1.03) (90, 0.11) (91, 0.47) (92, 0.08) (93, 0.62) (94, -0.13) (95, 0.34) (96, 0.27) (97, 0.10) (98, -0.05) (99, 0.86) \n",
        "Topic with the highest probability: topic #0\n"
       ]
      }
     ],
     "prompt_number": 10
    }
   ],
   "metadata": {}
  }
 ]
}